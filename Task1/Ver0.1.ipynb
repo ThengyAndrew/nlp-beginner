{
 "cells": [
  {
   "cell_type": "code",
   "id": "initial_id",
   "metadata": {
    "collapsed": true,
    "ExecuteTime": {
     "end_time": "2025-03-05T12:50:47.391098Z",
     "start_time": "2025-03-05T12:50:47.387597Z"
    }
   },
   "source": [
    "import torch\n",
    "from torch.autograd import Function"
   ],
   "outputs": [],
   "execution_count": 62
  },
  {
   "metadata": {
    "ExecuteTime": {
     "end_time": "2025-03-05T11:43:05.567464Z",
     "start_time": "2025-03-05T11:43:05.556691Z"
    }
   },
   "cell_type": "code",
   "source": "a = torch.arange(0.5, 9.5, 0.5)",
   "id": "56546a91a6b0d457",
   "outputs": [],
   "execution_count": 15
  },
  {
   "metadata": {
    "ExecuteTime": {
     "end_time": "2025-03-05T11:43:06.120427Z",
     "start_time": "2025-03-05T11:43:06.110703Z"
    }
   },
   "cell_type": "code",
   "source": "a.reshape(-1,2)",
   "id": "1a00262ebed95d4e",
   "outputs": [
    {
     "data": {
      "text/plain": [
       "tensor([[0.5000, 1.0000],\n",
       "        [1.5000, 2.0000],\n",
       "        [2.5000, 3.0000],\n",
       "        [3.5000, 4.0000],\n",
       "        [4.5000, 5.0000],\n",
       "        [5.5000, 6.0000],\n",
       "        [6.5000, 7.0000],\n",
       "        [7.5000, 8.0000],\n",
       "        [8.5000, 9.0000]])"
      ]
     },
     "execution_count": 16,
     "metadata": {},
     "output_type": "execute_result"
    }
   ],
   "execution_count": 16
  },
  {
   "metadata": {
    "ExecuteTime": {
     "end_time": "2025-03-05T11:59:01.743986Z",
     "start_time": "2025-03-05T11:59:01.734065Z"
    }
   },
   "cell_type": "code",
   "source": [
    "length = 3\n",
    "b = torch.cat([torch.zeros([1,length-1]), torch.arange(1,length,1).reshape(1,-1)],0).t()"
   ],
   "id": "2d280b50be02187e",
   "outputs": [],
   "execution_count": 59
  },
  {
   "metadata": {
    "ExecuteTime": {
     "end_time": "2025-03-05T11:59:02.146037Z",
     "start_time": "2025-03-05T11:59:02.134281Z"
    }
   },
   "cell_type": "code",
   "source": "b",
   "id": "9d156f19e779a3ee",
   "outputs": [
    {
     "data": {
      "text/plain": [
       "tensor([[0., 1.],\n",
       "        [0., 2.]])"
      ]
     },
     "execution_count": 60,
     "metadata": {},
     "output_type": "execute_result"
    }
   ],
   "execution_count": 60
  },
  {
   "metadata": {
    "ExecuteTime": {
     "end_time": "2025-03-05T12:51:30.951275Z",
     "start_time": "2025-03-05T12:51:30.935623Z"
    }
   },
   "cell_type": "code",
   "source": [
    "class MyReLU(Function):\n",
    "    @staticmethod\n",
    "    def forward(ctx, input):\n",
    "        ctx.save_for_backward(input)\n",
    "        return input.clamp(min=0)\n",
    "\n",
    "    @staticmethod\n",
    "    def backward(ctx, grad_output):\n",
    "        input, = ctx.saved_tensors\n",
    "        grad_input = grad_output.clone()\n",
    "        grad_input[input < 0] = 0\n",
    "        return grad_input\n",
    "\n",
    "# 使用自定义的ReLU激活函数\n",
    "def relu(input):\n",
    "    return MyReLU.apply(input)\n",
    "\n",
    "# 测试自定义激活函数\n",
    "input = torch.tensor([-1.0, 0.0, 1.0], requires_grad=True)\n",
    "output = relu(input)\n",
    "print(output)"
   ],
   "id": "fa1d4d4165e0960f",
   "outputs": [
    {
     "name": "stdout",
     "output_type": "stream",
     "text": [
      "tensor([0., 0., 1.], grad_fn=<MyReLUBackward>)\n"
     ]
    }
   ],
   "execution_count": 64
  },
  {
   "metadata": {},
   "cell_type": "code",
   "outputs": [],
   "execution_count": null,
   "source": "",
   "id": "a9be93e4f05bff1b"
  }
 ],
 "metadata": {
  "kernelspec": {
   "display_name": "Python 3",
   "language": "python",
   "name": "python3"
  },
  "language_info": {
   "codemirror_mode": {
    "name": "ipython",
    "version": 2
   },
   "file_extension": ".py",
   "mimetype": "text/x-python",
   "name": "python",
   "nbconvert_exporter": "python",
   "pygments_lexer": "ipython2",
   "version": "2.7.6"
  }
 },
 "nbformat": 4,
 "nbformat_minor": 5
}
