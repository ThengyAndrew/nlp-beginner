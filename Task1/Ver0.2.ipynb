{
 "cells": [
  {
   "cell_type": "code",
   "id": "initial_id",
   "metadata": {
    "collapsed": true,
    "ExecuteTime": {
     "end_time": "2025-03-06T03:50:31.809069Z",
     "start_time": "2025-03-06T03:50:31.795344Z"
    }
   },
   "source": [
    "import torch\n",
    "from torch.utils.data import Dataset, DataLoader\n",
    "\n",
    "class Plus1Dataset(Dataset):\n",
    "     def __init__(self):\n",
    "         super(Dataset, self).__init__()\n",
    "         self.X = torch.arange(0,4).reshape(-1,2)\n",
    "         print(self.X)\n",
    "         self.Y = torch.arange(0,2)\n",
    "         print(self.Y)\n",
    "\n",
    "     def __len__(self):\n",
    "         return len(self.Y)\n",
    "\n",
    "     def __getitem__(self, index):\n",
    "        return self.X[:,index], self.Y[index]\n",
    "\n",
    "data_train = Plus1Dataset()\n",
    "train_iter = DataLoader(data_train, batch_size=1, shuffle=True)\n",
    "print(len(data_train))"
   ],
   "outputs": [
    {
     "name": "stdout",
     "output_type": "stream",
     "text": [
      "tensor([[0, 1],\n",
      "        [2, 3]])\n",
      "tensor([0, 1])\n",
      "2\n"
     ]
    }
   ],
   "execution_count": 38
  },
  {
   "metadata": {
    "ExecuteTime": {
     "end_time": "2025-03-06T03:50:32.472592Z",
     "start_time": "2025-03-06T03:50:32.462033Z"
    }
   },
   "cell_type": "code",
   "source": [
    "for batch_idx, samples in enumerate(train_iter):\n",
    "    print(batch_idx,samples)"
   ],
   "id": "fbc097efab392045",
   "outputs": [
    {
     "name": "stdout",
     "output_type": "stream",
     "text": [
      "0 [tensor([[1, 3]]), tensor([1])]\n",
      "1 [tensor([[0, 2]]), tensor([0])]\n"
     ]
    }
   ],
   "execution_count": 39
  },
  {
   "metadata": {},
   "cell_type": "code",
   "outputs": [],
   "execution_count": null,
   "source": "",
   "id": "f219950212df455c"
  }
 ],
 "metadata": {
  "kernelspec": {
   "display_name": "dl_venv",
   "language": "python",
   "name": "dl_venv"
  },
  "language_info": {
   "codemirror_mode": {
    "name": "ipython",
    "version": 2
   },
   "file_extension": ".py",
   "mimetype": "text/x-python",
   "name": "python",
   "nbconvert_exporter": "python",
   "pygments_lexer": "ipython2",
   "version": "2.7.6"
  }
 },
 "nbformat": 4,
 "nbformat_minor": 5
}
