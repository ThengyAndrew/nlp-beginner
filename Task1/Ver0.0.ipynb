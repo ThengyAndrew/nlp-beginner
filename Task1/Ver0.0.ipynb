{
 "cells": [
  {
   "cell_type": "code",
   "execution_count": 7,
   "id": "bfc2cd93-2466-455f-a8db-9abb174d3c41",
   "metadata": {},
   "outputs": [],
   "source": [
    "import torch\n",
    "from torch import nn\n",
    "from d2l import torch as d2l\n",
    "import re"
   ]
  },
  {
   "cell_type": "code",
   "execution_count": 41,
   "id": "5cd02e01-c9dc-41b3-919c-52114130062b",
   "metadata": {},
   "outputs": [
    {
     "data": {
      "text/plain": [
       "{'',\n",
       " 'He',\n",
       " 'I',\n",
       " 'This',\n",
       " 'am',\n",
       " 'and',\n",
       " 'entertaining',\n",
       " 'happy',\n",
       " 'independent',\n",
       " 'introspective',\n",
       " 'is',\n",
       " 'not',\n",
       " 'quiet',\n",
       " 'seeking',\n",
       " 'sure',\n",
       " 'worth'}"
      ]
     },
     "execution_count": 41,
     "metadata": {},
     "output_type": "execute_result"
    }
   ],
   "source": [
    "text = [\"This quiet , introspective and entertaining independent is worth seeking .\", \"I am happy.\", \"He is not sure.\"]\n",
    "result = [re.split(r\"[,\\s.]+\", i) for i in text]\n",
    "bag = set()\n",
    "for i in result:\n",
    "    for j in i:\n",
    "        bag.add(j)\n",
    "bag"
   ]
  },
  {
   "cell_type": "code",
   "execution_count": null,
   "id": "d1cad399-3d45-452d-9709-b2dce0379539",
   "metadata": {},
   "outputs": [],
   "source": []
  }
 ],
 "metadata": {
  "kernelspec": {
   "display_name": "dl_venv",
   "language": "python",
   "name": "dl_venv"
  },
  "language_info": {
   "codemirror_mode": {
    "name": "ipython",
    "version": 3
   },
   "file_extension": ".py",
   "mimetype": "text/x-python",
   "name": "python",
   "nbconvert_exporter": "python",
   "pygments_lexer": "ipython3",
   "version": "3.8.20"
  }
 },
 "nbformat": 4,
 "nbformat_minor": 5
}
