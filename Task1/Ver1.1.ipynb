{
 "cells": [
  {
   "cell_type": "markdown",
   "id": "edae3582-7460-4e75-a581-ff9ce88185cd",
   "metadata": {},
   "source": [
    "# 向量空间模型"
   ]
  },
  {
   "metadata": {
    "ExecuteTime": {
     "end_time": "2025-03-08T09:22:58.400922Z",
     "start_time": "2025-03-08T09:22:58.386113Z"
    }
   },
   "cell_type": "code",
   "source": [
    "import re\n",
    "import torch\n",
    "import torch.nn.functional as F\n",
    "from torch import nn\n",
    "import pandas as pd\n",
    "import numpy as np\n",
    "from d2l import torch as d2l\n",
    "from torch.utils.data import Dataset, DataLoader\n",
    "import matplotlib.pyplot as plt"
   ],
   "id": "b2fe23782c5304cc",
   "outputs": [],
   "execution_count": 241
  },
  {
   "metadata": {},
   "cell_type": "markdown",
   "source": [
    "texts = [\n",
    "    \"I am happy.\",\n",
    "    \"You are happy.\",\n",
    "    \"I am you\"\n",
    "]"
   ],
   "id": "d4f5e554e6003037"
  },
  {
   "metadata": {
    "ExecuteTime": {
     "end_time": "2025-03-08T09:05:37.369239Z",
     "start_time": "2025-03-08T09:05:37.309373Z"
    }
   },
   "cell_type": "code",
   "source": [
    "df_train = pd.read_csv('new_train.tsv', header=0, sep='\\t')\n",
    "train_texts = list(np.array(df_train)[:, 0])\n",
    "df_test = pd.read_csv('new_test.tsv', header=0, sep='\\t')\n",
    "test_texts = list(np.array(df_test)[:, 0])"
   ],
   "id": "afbcf39012f0e68d",
   "outputs": [],
   "execution_count": 219
  },
  {
   "cell_type": "code",
   "id": "f60da654-0f12-4ab0-927b-76b0358b2a7a",
   "metadata": {
    "ExecuteTime": {
     "end_time": "2025-03-08T09:18:08.366824Z",
     "start_time": "2025-03-08T09:18:08.352143Z"
    }
   },
   "source": [
    "class Bag:\n",
    "    def __init__(self, *args):\n",
    "        self.__texts = []\n",
    "        self.__len = -1\n",
    "        self.__value = {}\n",
    "        for texts in args:\n",
    "            for text in texts:\n",
    "                words = re.split(r'\\W+', text.lower())\n",
    "                self.__texts.append(words)\n",
    "                for word in words:\n",
    "                    if word not in self.__value and len(word) > 0:\n",
    "                        self.__len += 1\n",
    "                        self.__value[word] = self.__len\n",
    "\n",
    "\n",
    "    def inquiry(self, word):\n",
    "        if word not in self.__value:\n",
    "            pass\n",
    "        else:\n",
    "            return self.__value[word]\n",
    "\n",
    "    def len(self):\n",
    "        return self.__len\n",
    "\n",
    "    def __str__(self):\n",
    "        return f\"<Bag> value: {str(self.__value)}; length: {str(self.__len)}\"\n",
    "\n",
    "    def value(self):\n",
    "        return self.__value\n"
   ],
   "outputs": [],
   "execution_count": 230
  },
  {
   "cell_type": "code",
   "id": "32044496-82bc-4be9-a2f4-8da236fd0d2b",
   "metadata": {
    "ExecuteTime": {
     "end_time": "2025-03-08T09:18:09.123249Z",
     "start_time": "2025-03-08T09:18:09.107952Z"
    }
   },
   "source": [
    "def word2vec(word, bag):\n",
    "    dimension = bag.len()+1\n",
    "    vec = torch.zeros(dimension)\n",
    "    vec[bag.inquiry(word)] = 1\n",
    "    return vec\n"
   ],
   "outputs": [],
   "execution_count": 231
  },
  {
   "metadata": {
    "ExecuteTime": {
     "end_time": "2025-03-08T09:18:09.647590Z",
     "start_time": "2025-03-08T09:18:09.633060Z"
    }
   },
   "cell_type": "code",
   "source": [
    "class Query:\n",
    "    def __init__(self, word, vec):\n",
    "        self.__word = word\n",
    "        self.__vec = vec\n",
    "\n",
    "    def __repr__(self):\n",
    "        return f\"<Query> word: {self.__word}; vec: {self.__vec}\"\n",
    "\n",
    "    def word(self):\n",
    "        return self.__word\n",
    "\n",
    "    def vec(self):\n",
    "        return self.__vec"
   ],
   "id": "50305d93cf03ec3f",
   "outputs": [],
   "execution_count": 232
  },
  {
   "metadata": {
    "ExecuteTime": {
     "end_time": "2025-03-08T09:18:10.151055Z",
     "start_time": "2025-03-08T09:18:10.136478Z"
    }
   },
   "cell_type": "code",
   "source": [
    "class Document:\n",
    "    def __init__(self, text, bag):\n",
    "        self.__text = text\n",
    "        self.__queries = []\n",
    "        self.__bag = bag\n",
    "        for word in self.__text:\n",
    "            if len(word) > 0:\n",
    "                # print(word)\n",
    "                self.__queries.append(Query(word, word2vec(word, bag)))\n",
    "        self.__init_tf()\n",
    "        self.__vector = torch.zeros(self.__bag.len()+1)\n",
    "\n",
    "\n",
    "    def __repr__(self):\n",
    "        return f\"<Document> text: {self.__text}; queries: {self.__queries}\"\n",
    "\n",
    "    def __init_tf(self):\n",
    "        text_length = len(self.__queries)\n",
    "        bag_length = self.__bag.len()\n",
    "        frequency = torch.zeros(bag_length+1)\n",
    "\n",
    "        # self.__tf = torch.cat([torch.zeros([1,bag_length+1]), torch.arange(0,bag_length+1,1).reshape(1,-1)],0).t()\n",
    "\n",
    "        # print(self.__queries)\n",
    "\n",
    "        for query in self.__queries:\n",
    "            word = query.word()\n",
    "            key = self.__bag.inquiry(word)\n",
    "            # self.__tf[key][0] += 1.0\n",
    "            frequency[key] += 1\n",
    "        self.__tf = frequency/text_length\n",
    "        # print(f\"<tf> {self.__tf}\")\n",
    "\n",
    "    def queries(self):\n",
    "        return self.__queries\n",
    "\n",
    "    def tf(self):\n",
    "        return self.__tf\n",
    "\n",
    "    def assign_vector(self, value):\n",
    "        self.__vector = value\n",
    "\n",
    "    def vector(self):\n",
    "        return self.__vector"
   ],
   "id": "c6f724fce3c8ffe0",
   "outputs": [],
   "execution_count": 233
  },
  {
   "metadata": {
    "ExecuteTime": {
     "end_time": "2025-03-08T09:18:10.653431Z",
     "start_time": "2025-03-08T09:18:10.638315Z"
    }
   },
   "cell_type": "code",
   "source": [
    "class Documents:\n",
    "    def __init__(self, doc_texts, bag):\n",
    "        self.__texts = doc_texts\n",
    "        self.__bag = bag\n",
    "        self.__value = []\n",
    "        self.__init_idf()\n",
    "\n",
    "\n",
    "    def init_doc_from_a2b(self, a, b):\n",
    "        for text in self.__texts[a:b]:\n",
    "            self.__value.append(Document(re.split(r'\\W+', text.lower()), self.__bag))\n",
    "        # self.__init_idf()\n",
    "        return self.__init_vector()\n",
    "\n",
    "    def init_doc_with_id(self, id):\n",
    "        self.__value.append(Document(re.split(r'\\W+', self.__texts[id].lower()), self.__bag))\n",
    "        self.__assign_vector(id)\n",
    "\n",
    "    def __str__(self):\n",
    "        return f\"<Documents>\\nbag: {str(self.__bag)}; value: {str(self.__value)}\"\n",
    "\n",
    "    def __getitem__(self, index):\n",
    "        return self.__value[index]\n",
    "\n",
    "    def __init_idf(self):\n",
    "        doc_length = len(self.__texts)\n",
    "        bag_length = self.__bag.len()\n",
    "        frequency = torch.zeros(bag_length+1)\n",
    "        for text in self.__texts:\n",
    "            # print(text)\n",
    "            temp_doc = Document(re.split(r'\\W+', text.lower()), self.__bag)\n",
    "            for query in temp_doc.queries():\n",
    "                vec = query.vec()\n",
    "                # print(vec)\n",
    "                frequency = vec + frequency\n",
    "            del temp_doc\n",
    "        self.__idf = torch.log(doc_length/(frequency+1))\n",
    "        print(f\"<idf> {self.__idf}\")\n",
    "        print(f\"mean: {torch.mean(self.__idf)}\")\n",
    "        print(f\"min: {torch.min(self.__idf)}\")\n",
    "        print(f\"max: {torch.max(self.__idf)}\")\n",
    "        print(f\"quantile: {torch.quantile(self.__idf, torch.tensor([0.1, 0.5, 0.9]))}\")\n",
    "\n",
    "    def idf(self):\n",
    "        return self.__idf\n",
    "\n",
    "    def __init_vector(self):\n",
    "        length = len(self.__value)\n",
    "        vectors = torch.zeros(len(self.__value),self.__bag.len()+1)\n",
    "        for id in range(length):\n",
    "            doc = self.__value[id]\n",
    "            vector = torch.zeros(self.__bag.len()+1)\n",
    "            vector = torch.mul(self.__idf, doc.tf())\n",
    "            doc.assign_vector(vector)\n",
    "            vectors[id] = vector\n",
    "        return vectors\n",
    "\n",
    "    def bag_length(self):\n",
    "        return self.__bag.len()\n",
    "\n",
    "    def __assign_vector(self, i):\n",
    "        doc = self.__value[i]\n",
    "        vector = torch.zeros(self.__bag.len()+1)\n",
    "        vector = torch.mul(self.__idf, doc.tf())\n",
    "        doc.assign_vector(vector)\n",
    "\n",
    "    def value(self):\n",
    "        return self.__value\n",
    "\n",
    "    def get_vector(self, index):\n",
    "        self.__value.append(Document(re.split(r'\\W+', self.__texts[index].lower()), self.__bag))\n",
    "        self.__assign_vector(-1)\n",
    "        vector = self.__value[-1].vector()\n",
    "        del self.__value[-1]\n",
    "        return vector\n"
   ],
   "id": "b89471a33e05b7f5",
   "outputs": [],
   "execution_count": 234
  },
  {
   "metadata": {
    "ExecuteTime": {
     "end_time": "2025-03-08T09:18:14.422134Z",
     "start_time": "2025-03-08T09:18:11.311181Z"
    }
   },
   "cell_type": "code",
   "source": [
    "bag = Bag(train_texts, test_texts)\n",
    "documents = Documents(doc_texts=train_texts, bag=bag)\n",
    "documents.bag_length()"
   ],
   "id": "4ece43619059e5b6",
   "outputs": [
    {
     "name": "stdout",
     "output_type": "stream",
     "text": [
      "<idf> tensor([3.4865, 5.0437, 0.6589,  ..., 9.0510, 9.0510, 9.0510])\n",
      "mean: 7.9194769859313965\n",
      "min: 0.15563727915287018\n",
      "max: 9.050992965698242\n",
      "quantile: tensor([6.7484, 8.3578, 9.0510])\n"
     ]
    },
    {
     "data": {
      "text/plain": [
       "17703"
      ]
     },
     "execution_count": 235,
     "metadata": {},
     "output_type": "execute_result"
    }
   ],
   "execution_count": 235
  },
  {
   "metadata": {},
   "cell_type": "markdown",
   "source": [
    "X = documents.init_doc_from_a2b(0, L)\n",
    "X"
   ],
   "id": "490615c0bcce5a82"
  },
  {
   "metadata": {
    "ExecuteTime": {
     "end_time": "2025-03-08T10:44:12.404681Z",
     "start_time": "2025-03-08T10:44:12.357177Z"
    }
   },
   "cell_type": "code",
   "source": [
    "net = nn.Sequential(nn.Linear(documents.bag_length()+1, 256),\n",
    "                    nn.ReLU(),\n",
    "                    nn.Linear(256, 5),)\n",
    "\n",
    "def init_weights(m):\n",
    "    if type(m) == nn.Linear:\n",
    "        nn.init.normal_(m.weight, std=0.01)\n",
    "\n",
    "net.apply(init_weights);"
   ],
   "id": "3bec14131c76eed3",
   "outputs": [],
   "execution_count": 278
  },
  {
   "metadata": {
    "ExecuteTime": {
     "end_time": "2025-03-08T10:08:28.942366Z",
     "start_time": "2025-03-08T10:08:28.934523Z"
    }
   },
   "cell_type": "code",
   "source": [
    "batch_size, lr, num_epochs = 256, 0.2, 10\n",
    "loss = nn.CrossEntropyLoss(reduction='none')\n",
    "trainer = torch.optim.SGD(net.parameters(), lr=lr)"
   ],
   "id": "c45bd8069e4048a2",
   "outputs": [],
   "execution_count": 273
  },
  {
   "metadata": {
    "ExecuteTime": {
     "end_time": "2025-03-08T10:08:31.890839Z",
     "start_time": "2025-03-08T10:08:29.127459Z"
    }
   },
   "cell_type": "code",
   "source": [
    "class MyDataset(Dataset):\n",
    "     def __init__(self, y, docs):\n",
    "         super(Dataset, self).__init__()\n",
    "         self.__documents = docs\n",
    "         self.__Y = y\n",
    "     def __len__(self):\n",
    "         return len(self.__Y)\n",
    "\n",
    "     def __getitem__(self, index):\n",
    "         return self.__documents.get_vector(index),self.__Y[index]\n",
    "\n",
    "Y = torch.tensor(list(np.array(df_train)[:, 1]))\n",
    "data_train = MyDataset(Y, documents)\n",
    "train_iter = DataLoader(data_train, batch_size, shuffle=True)\n",
    "for batch_idx, samples in enumerate(train_iter):\n",
    "    print(batch_idx,samples[0].shape)"
   ],
   "id": "61b5341f41c3b835",
   "outputs": [
    {
     "name": "stdout",
     "output_type": "stream",
     "text": [
      "0 torch.Size([256, 17704])\n",
      "1 torch.Size([256, 17704])\n",
      "2 torch.Size([256, 17704])\n",
      "3 torch.Size([256, 17704])\n",
      "4 torch.Size([256, 17704])\n",
      "5 torch.Size([256, 17704])\n",
      "6 torch.Size([256, 17704])\n",
      "7 torch.Size([256, 17704])\n",
      "8 torch.Size([256, 17704])\n",
      "9 torch.Size([256, 17704])\n",
      "10 torch.Size([256, 17704])\n",
      "11 torch.Size([256, 17704])\n",
      "12 torch.Size([256, 17704])\n",
      "13 torch.Size([256, 17704])\n",
      "14 torch.Size([256, 17704])\n",
      "15 torch.Size([256, 17704])\n",
      "16 torch.Size([256, 17704])\n",
      "17 torch.Size([256, 17704])\n",
      "18 torch.Size([256, 17704])\n",
      "19 torch.Size([256, 17704])\n",
      "20 torch.Size([256, 17704])\n",
      "21 torch.Size([256, 17704])\n",
      "22 torch.Size([256, 17704])\n",
      "23 torch.Size([256, 17704])\n",
      "24 torch.Size([256, 17704])\n",
      "25 torch.Size([256, 17704])\n",
      "26 torch.Size([256, 17704])\n",
      "27 torch.Size([256, 17704])\n",
      "28 torch.Size([256, 17704])\n",
      "29 torch.Size([256, 17704])\n",
      "30 torch.Size([256, 17704])\n",
      "31 torch.Size([256, 17704])\n",
      "32 torch.Size([256, 17704])\n",
      "33 torch.Size([79, 17704])\n"
     ]
    }
   ],
   "execution_count": 274
  },
  {
   "metadata": {
    "ExecuteTime": {
     "end_time": "2025-03-08T10:08:33.074773Z",
     "start_time": "2025-03-08T10:08:31.894623Z"
    }
   },
   "cell_type": "code",
   "source": [
    "data_test = MyDataset(torch.tensor(list(np.array(df_test)[:, 1])), Documents(doc_texts=test_texts, bag=bag))\n",
    "test_iter = DataLoader(data_test, batch_size, shuffle=True)"
   ],
   "id": "634551d7c8262fd2",
   "outputs": [
    {
     "name": "stdout",
     "output_type": "stream",
     "text": [
      "<idf> tensor([3.2599, 4.8460, 0.6722,  ..., 7.4110, 7.4110, 7.4110])\n",
      "mean: 7.480660915374756\n",
      "min: 0.14902478456497192\n",
      "max: 8.10409927368164\n",
      "quantile: tensor([6.4947, 7.4110, 8.1041])\n"
     ]
    }
   ],
   "execution_count": 275
  },
  {
   "metadata": {
    "ExecuteTime": {
     "end_time": "2025-03-08T10:08:33.129425Z",
     "start_time": "2025-03-08T10:08:33.108837Z"
    }
   },
   "cell_type": "code",
   "source": [
    "# define draw\n",
    "def plotCurve(x_vals, y_vals,\n",
    "                x_label, y_label,\n",
    "                x2_vals=None, y2_vals=None,\n",
    "                legend=None,\n",
    "                figsize=(3.5, 2.5)):\n",
    "    # set figsize\n",
    "    plt.xlabel(x_label)\n",
    "    plt.ylabel(y_label)\n",
    "    plt.semilogy(x_vals, y_vals)\n",
    "    if x2_vals and y2_vals:\n",
    "        plt.semilogy(x2_vals, y2_vals, linestyle=':')\n",
    "\n",
    "    if legend:\n",
    "        plt.legend(legend)"
   ],
   "id": "c1b29baf7fa5bbc6",
   "outputs": [],
   "execution_count": 276
  },
  {
   "metadata": {
    "ExecuteTime": {
     "end_time": "2025-03-08T10:48:35.651229Z",
     "start_time": "2025-03-08T10:47:44.619730Z"
    }
   },
   "cell_type": "code",
   "source": [
    "def train(net, train_iter, test_iter, loss, num_epochs, trainer, device=torch.device('cpu')):\n",
    "    net.to(device)  # 把模型放到 GPU（如果可用）\n",
    "    print(\"training on\", device)\n",
    "\n",
    "    train_ls , test_ls = [], []\n",
    "\n",
    "    for epoch in range(num_epochs):\n",
    "        net.train()  # 训练模式\n",
    "        train_loss, train_correct, train_samples = 0, 0, 0\n",
    "\n",
    "        for X, y in train_iter:\n",
    "            X, y = X.to(device), y.to(device)\n",
    "            y_hat = net(X)\n",
    "            l = loss(y_hat, y)  # 计算损失\n",
    "\n",
    "            trainer.zero_grad()  # 清空梯度\n",
    "            l.mean().backward()  # 反向传播\n",
    "            trainer.step()  # 更新参数\n",
    "\n",
    "            train_loss += l.sum().item()  # 累计损失\n",
    "            train_correct += (y_hat.argmax(dim=1) == y).sum().item()  # 统计正确数\n",
    "            train_samples += y.shape[0]\n",
    "\n",
    "        train_acc = train_correct / train_samples  # 计算训练准确率\n",
    "\n",
    "\n",
    "        # 评估阶段（不计算梯度）\n",
    "        net.eval()  # 设为评估模式（禁用 dropout/batchnorm）\n",
    "        test_loss, test_correct, test_samples = 0, 0, 0\n",
    "\n",
    "        with torch.no_grad():  # 禁用梯度计算，提高推理速度\n",
    "            for X, y in test_iter:\n",
    "                X, y = X.to(device), y.to(device)\n",
    "                y_hat = net(X)\n",
    "                test_loss += loss(y_hat, y).sum().item()\n",
    "                test_correct += (y_hat.argmax(dim=1) == y).sum().item()\n",
    "                test_samples += y.shape[0]\n",
    "\n",
    "        test_acc = test_correct / test_samples  # 计算测试准确率\n",
    "\n",
    "        train_ls.append(train_acc)\n",
    "        test_ls.append(test_acc)\n",
    "\n",
    "        # 打印训练 & 测试结果\n",
    "        print(f\"Epoch {epoch+1}: \"\n",
    "              f\"Train Loss {train_loss:.4f}, Train Acc {train_acc:.4f}, \"\n",
    "              f\"Test Loss {test_loss:.4f}, Test Acc {test_acc:.4f}\")\n",
    "\n",
    "\n",
    "    plotCurve(range(1, num_epochs + 1), train_ls,\n",
    "              \"epoch\", \"acc\",\n",
    "              range(1, num_epochs + 1), test_ls,\n",
    "              [\"train\", \"test\"])\n",
    "\n",
    "# 运行训练循环\n",
    "train(net, train_iter, test_iter, loss, num_epochs, trainer)\n",
    "\n"
   ],
   "id": "214833d54a0d5a8f",
   "outputs": [
    {
     "name": "stdout",
     "output_type": "stream",
     "text": [
      "training on cpu\n",
      "Epoch 1: Train Loss 13664.8306, Train Acc 0.2944, Test Loss 5301.3730, Test Acc 0.3008\n",
      "Epoch 2: Train Loss 13664.8305, Train Acc 0.2944, Test Loss 5301.3731, Test Acc 0.3008\n",
      "Epoch 3: Train Loss 13664.8308, Train Acc 0.2944, Test Loss 5301.3729, Test Acc 0.3008\n",
      "Epoch 4: Train Loss 13664.8306, Train Acc 0.2944, Test Loss 5301.3730, Test Acc 0.3008\n",
      "Epoch 5: Train Loss 13664.8307, Train Acc 0.2944, Test Loss 5301.3730, Test Acc 0.3008\n",
      "Epoch 6: Train Loss 13664.8307, Train Acc 0.2944, Test Loss 5301.3730, Test Acc 0.3008\n",
      "Epoch 7: Train Loss 13664.8306, Train Acc 0.2944, Test Loss 5301.3730, Test Acc 0.3008\n",
      "Epoch 8: Train Loss 13664.8306, Train Acc 0.2944, Test Loss 5301.3730, Test Acc 0.3008\n",
      "Epoch 9: Train Loss 13664.8306, Train Acc 0.2944, Test Loss 5301.3730, Test Acc 0.3008\n",
      "Epoch 10: Train Loss 13664.8308, Train Acc 0.2944, Test Loss 5301.3731, Test Acc 0.3008\n"
     ]
    },
    {
     "data": {
      "text/plain": [
       "<Figure size 640x480 with 1 Axes>"
      ],
      "image/svg+xml": "<?xml version=\"1.0\" encoding=\"utf-8\" standalone=\"no\"?>\n<!DOCTYPE svg PUBLIC \"-//W3C//DTD SVG 1.1//EN\"\n  \"http://www.w3.org/Graphics/SVG/1.1/DTD/svg11.dtd\">\n<svg xmlns:xlink=\"http://www.w3.org/1999/xlink\" width=\"448.598125pt\" height=\"310.86825pt\" viewBox=\"0 0 448.598125 310.86825\" xmlns=\"http://www.w3.org/2000/svg\" version=\"1.1\">\n <metadata>\n  <rdf:RDF xmlns:dc=\"http://purl.org/dc/elements/1.1/\" xmlns:cc=\"http://creativecommons.org/ns#\" xmlns:rdf=\"http://www.w3.org/1999/02/22-rdf-syntax-ns#\">\n   <cc:Work>\n    <dc:type rdf:resource=\"http://purl.org/dc/dcmitype/StillImage\"/>\n    <dc:date>2025-03-08T18:48:35.583985</dc:date>\n    <dc:format>image/svg+xml</dc:format>\n    <dc:creator>\n     <cc:Agent>\n      <dc:title>Matplotlib v3.5.1, https://matplotlib.org/</dc:title>\n     </cc:Agent>\n    </dc:creator>\n   </cc:Work>\n  </rdf:RDF>\n </metadata>\n <defs>\n  <style type=\"text/css\">*{stroke-linejoin: round; stroke-linecap: butt}</style>\n </defs>\n <g id=\"figure_1\">\n  <g id=\"patch_1\">\n   <path d=\"M 0 310.86825 \nL 448.598125 310.86825 \nL 448.598125 0 \nL 0 0 \nz\n\" style=\"fill: #ffffff\"/>\n  </g>\n  <g id=\"axes_1\">\n   <g id=\"patch_2\">\n    <path d=\"M 84.278125 273.312 \nL 441.398125 273.312 \nL 441.398125 7.2 \nL 84.278125 7.2 \nz\n\" style=\"fill: #ffffff\"/>\n   </g>\n   <g id=\"matplotlib.axis_1\">\n    <g id=\"xtick_1\">\n     <g id=\"line2d_1\">\n      <defs>\n       <path id=\"m29db306ec5\" d=\"M 0 0 \nL 0 3.5 \n\" style=\"stroke: #000000; stroke-width: 0.8\"/>\n      </defs>\n      <g>\n       <use xlink:href=\"#m29db306ec5\" x=\"136.58358\" y=\"273.312\" style=\"stroke: #000000; stroke-width: 0.8\"/>\n      </g>\n     </g>\n     <g id=\"text_1\">\n      <!-- 2 -->\n      <g transform=\"translate(133.40233 287.910438)scale(0.1 -0.1)\">\n       <defs>\n        <path id=\"DejaVuSans-32\" d=\"M 1228 531 \nL 3431 531 \nL 3431 0 \nL 469 0 \nL 469 531 \nQ 828 903 1448 1529 \nQ 2069 2156 2228 2338 \nQ 2531 2678 2651 2914 \nQ 2772 3150 2772 3378 \nQ 2772 3750 2511 3984 \nQ 2250 4219 1831 4219 \nQ 1534 4219 1204 4116 \nQ 875 4013 500 3803 \nL 500 4441 \nQ 881 4594 1212 4672 \nQ 1544 4750 1819 4750 \nQ 2544 4750 2975 4387 \nQ 3406 4025 3406 3419 \nQ 3406 3131 3298 2873 \nQ 3191 2616 2906 2266 \nQ 2828 2175 2409 1742 \nQ 1991 1309 1228 531 \nz\n\" transform=\"scale(0.015625)\"/>\n       </defs>\n       <use xlink:href=\"#DejaVuSans-32\"/>\n      </g>\n     </g>\n    </g>\n    <g id=\"xtick_2\">\n     <g id=\"line2d_2\">\n      <g>\n       <use xlink:href=\"#m29db306ec5\" x=\"208.729034\" y=\"273.312\" style=\"stroke: #000000; stroke-width: 0.8\"/>\n      </g>\n     </g>\n     <g id=\"text_2\">\n      <!-- 4 -->\n      <g transform=\"translate(205.547784 287.910438)scale(0.1 -0.1)\">\n       <defs>\n        <path id=\"DejaVuSans-34\" d=\"M 2419 4116 \nL 825 1625 \nL 2419 1625 \nL 2419 4116 \nz\nM 2253 4666 \nL 3047 4666 \nL 3047 1625 \nL 3713 1625 \nL 3713 1100 \nL 3047 1100 \nL 3047 0 \nL 2419 0 \nL 2419 1100 \nL 313 1100 \nL 313 1709 \nL 2253 4666 \nz\n\" transform=\"scale(0.015625)\"/>\n       </defs>\n       <use xlink:href=\"#DejaVuSans-34\"/>\n      </g>\n     </g>\n    </g>\n    <g id=\"xtick_3\">\n     <g id=\"line2d_3\">\n      <g>\n       <use xlink:href=\"#m29db306ec5\" x=\"280.874489\" y=\"273.312\" style=\"stroke: #000000; stroke-width: 0.8\"/>\n      </g>\n     </g>\n     <g id=\"text_3\">\n      <!-- 6 -->\n      <g transform=\"translate(277.693239 287.910438)scale(0.1 -0.1)\">\n       <defs>\n        <path id=\"DejaVuSans-36\" d=\"M 2113 2584 \nQ 1688 2584 1439 2293 \nQ 1191 2003 1191 1497 \nQ 1191 994 1439 701 \nQ 1688 409 2113 409 \nQ 2538 409 2786 701 \nQ 3034 994 3034 1497 \nQ 3034 2003 2786 2293 \nQ 2538 2584 2113 2584 \nz\nM 3366 4563 \nL 3366 3988 \nQ 3128 4100 2886 4159 \nQ 2644 4219 2406 4219 \nQ 1781 4219 1451 3797 \nQ 1122 3375 1075 2522 \nQ 1259 2794 1537 2939 \nQ 1816 3084 2150 3084 \nQ 2853 3084 3261 2657 \nQ 3669 2231 3669 1497 \nQ 3669 778 3244 343 \nQ 2819 -91 2113 -91 \nQ 1303 -91 875 529 \nQ 447 1150 447 2328 \nQ 447 3434 972 4092 \nQ 1497 4750 2381 4750 \nQ 2619 4750 2861 4703 \nQ 3103 4656 3366 4563 \nz\n\" transform=\"scale(0.015625)\"/>\n       </defs>\n       <use xlink:href=\"#DejaVuSans-36\"/>\n      </g>\n     </g>\n    </g>\n    <g id=\"xtick_4\">\n     <g id=\"line2d_4\">\n      <g>\n       <use xlink:href=\"#m29db306ec5\" x=\"353.019943\" y=\"273.312\" style=\"stroke: #000000; stroke-width: 0.8\"/>\n      </g>\n     </g>\n     <g id=\"text_4\">\n      <!-- 8 -->\n      <g transform=\"translate(349.838693 287.910438)scale(0.1 -0.1)\">\n       <defs>\n        <path id=\"DejaVuSans-38\" d=\"M 2034 2216 \nQ 1584 2216 1326 1975 \nQ 1069 1734 1069 1313 \nQ 1069 891 1326 650 \nQ 1584 409 2034 409 \nQ 2484 409 2743 651 \nQ 3003 894 3003 1313 \nQ 3003 1734 2745 1975 \nQ 2488 2216 2034 2216 \nz\nM 1403 2484 \nQ 997 2584 770 2862 \nQ 544 3141 544 3541 \nQ 544 4100 942 4425 \nQ 1341 4750 2034 4750 \nQ 2731 4750 3128 4425 \nQ 3525 4100 3525 3541 \nQ 3525 3141 3298 2862 \nQ 3072 2584 2669 2484 \nQ 3125 2378 3379 2068 \nQ 3634 1759 3634 1313 \nQ 3634 634 3220 271 \nQ 2806 -91 2034 -91 \nQ 1263 -91 848 271 \nQ 434 634 434 1313 \nQ 434 1759 690 2068 \nQ 947 2378 1403 2484 \nz\nM 1172 3481 \nQ 1172 3119 1398 2916 \nQ 1625 2713 2034 2713 \nQ 2441 2713 2670 2916 \nQ 2900 3119 2900 3481 \nQ 2900 3844 2670 4047 \nQ 2441 4250 2034 4250 \nQ 1625 4250 1398 4047 \nQ 1172 3844 1172 3481 \nz\n\" transform=\"scale(0.015625)\"/>\n       </defs>\n       <use xlink:href=\"#DejaVuSans-38\"/>\n      </g>\n     </g>\n    </g>\n    <g id=\"xtick_5\">\n     <g id=\"line2d_5\">\n      <g>\n       <use xlink:href=\"#m29db306ec5\" x=\"425.165398\" y=\"273.312\" style=\"stroke: #000000; stroke-width: 0.8\"/>\n      </g>\n     </g>\n     <g id=\"text_5\">\n      <!-- 10 -->\n      <g transform=\"translate(418.802898 287.910438)scale(0.1 -0.1)\">\n       <defs>\n        <path id=\"DejaVuSans-31\" d=\"M 794 531 \nL 1825 531 \nL 1825 4091 \nL 703 3866 \nL 703 4441 \nL 1819 4666 \nL 2450 4666 \nL 2450 531 \nL 3481 531 \nL 3481 0 \nL 794 0 \nL 794 531 \nz\n\" transform=\"scale(0.015625)\"/>\n        <path id=\"DejaVuSans-30\" d=\"M 2034 4250 \nQ 1547 4250 1301 3770 \nQ 1056 3291 1056 2328 \nQ 1056 1369 1301 889 \nQ 1547 409 2034 409 \nQ 2525 409 2770 889 \nQ 3016 1369 3016 2328 \nQ 3016 3291 2770 3770 \nQ 2525 4250 2034 4250 \nz\nM 2034 4750 \nQ 2819 4750 3233 4129 \nQ 3647 3509 3647 2328 \nQ 3647 1150 3233 529 \nQ 2819 -91 2034 -91 \nQ 1250 -91 836 529 \nQ 422 1150 422 2328 \nQ 422 3509 836 4129 \nQ 1250 4750 2034 4750 \nz\n\" transform=\"scale(0.015625)\"/>\n       </defs>\n       <use xlink:href=\"#DejaVuSans-31\"/>\n       <use xlink:href=\"#DejaVuSans-30\" x=\"63.623047\"/>\n      </g>\n     </g>\n    </g>\n    <g id=\"text_6\">\n     <!-- epoch -->\n     <g transform=\"translate(247.61 301.588563)scale(0.1 -0.1)\">\n      <defs>\n       <path id=\"DejaVuSans-65\" d=\"M 3597 1894 \nL 3597 1613 \nL 953 1613 \nQ 991 1019 1311 708 \nQ 1631 397 2203 397 \nQ 2534 397 2845 478 \nQ 3156 559 3463 722 \nL 3463 178 \nQ 3153 47 2828 -22 \nQ 2503 -91 2169 -91 \nQ 1331 -91 842 396 \nQ 353 884 353 1716 \nQ 353 2575 817 3079 \nQ 1281 3584 2069 3584 \nQ 2775 3584 3186 3129 \nQ 3597 2675 3597 1894 \nz\nM 3022 2063 \nQ 3016 2534 2758 2815 \nQ 2500 3097 2075 3097 \nQ 1594 3097 1305 2825 \nQ 1016 2553 972 2059 \nL 3022 2063 \nz\n\" transform=\"scale(0.015625)\"/>\n       <path id=\"DejaVuSans-70\" d=\"M 1159 525 \nL 1159 -1331 \nL 581 -1331 \nL 581 3500 \nL 1159 3500 \nL 1159 2969 \nQ 1341 3281 1617 3432 \nQ 1894 3584 2278 3584 \nQ 2916 3584 3314 3078 \nQ 3713 2572 3713 1747 \nQ 3713 922 3314 415 \nQ 2916 -91 2278 -91 \nQ 1894 -91 1617 61 \nQ 1341 213 1159 525 \nz\nM 3116 1747 \nQ 3116 2381 2855 2742 \nQ 2594 3103 2138 3103 \nQ 1681 3103 1420 2742 \nQ 1159 2381 1159 1747 \nQ 1159 1113 1420 752 \nQ 1681 391 2138 391 \nQ 2594 391 2855 752 \nQ 3116 1113 3116 1747 \nz\n\" transform=\"scale(0.015625)\"/>\n       <path id=\"DejaVuSans-6f\" d=\"M 1959 3097 \nQ 1497 3097 1228 2736 \nQ 959 2375 959 1747 \nQ 959 1119 1226 758 \nQ 1494 397 1959 397 \nQ 2419 397 2687 759 \nQ 2956 1122 2956 1747 \nQ 2956 2369 2687 2733 \nQ 2419 3097 1959 3097 \nz\nM 1959 3584 \nQ 2709 3584 3137 3096 \nQ 3566 2609 3566 1747 \nQ 3566 888 3137 398 \nQ 2709 -91 1959 -91 \nQ 1206 -91 779 398 \nQ 353 888 353 1747 \nQ 353 2609 779 3096 \nQ 1206 3584 1959 3584 \nz\n\" transform=\"scale(0.015625)\"/>\n       <path id=\"DejaVuSans-63\" d=\"M 3122 3366 \nL 3122 2828 \nQ 2878 2963 2633 3030 \nQ 2388 3097 2138 3097 \nQ 1578 3097 1268 2742 \nQ 959 2388 959 1747 \nQ 959 1106 1268 751 \nQ 1578 397 2138 397 \nQ 2388 397 2633 464 \nQ 2878 531 3122 666 \nL 3122 134 \nQ 2881 22 2623 -34 \nQ 2366 -91 2075 -91 \nQ 1284 -91 818 406 \nQ 353 903 353 1747 \nQ 353 2603 823 3093 \nQ 1294 3584 2113 3584 \nQ 2378 3584 2631 3529 \nQ 2884 3475 3122 3366 \nz\n\" transform=\"scale(0.015625)\"/>\n       <path id=\"DejaVuSans-68\" d=\"M 3513 2113 \nL 3513 0 \nL 2938 0 \nL 2938 2094 \nQ 2938 2591 2744 2837 \nQ 2550 3084 2163 3084 \nQ 1697 3084 1428 2787 \nQ 1159 2491 1159 1978 \nL 1159 0 \nL 581 0 \nL 581 4863 \nL 1159 4863 \nL 1159 2956 \nQ 1366 3272 1645 3428 \nQ 1925 3584 2291 3584 \nQ 2894 3584 3203 3211 \nQ 3513 2838 3513 2113 \nz\n\" transform=\"scale(0.015625)\"/>\n      </defs>\n      <use xlink:href=\"#DejaVuSans-65\"/>\n      <use xlink:href=\"#DejaVuSans-70\" x=\"61.523438\"/>\n      <use xlink:href=\"#DejaVuSans-6f\" x=\"125\"/>\n      <use xlink:href=\"#DejaVuSans-63\" x=\"186.181641\"/>\n      <use xlink:href=\"#DejaVuSans-68\" x=\"241.162109\"/>\n     </g>\n    </g>\n   </g>\n   <g id=\"matplotlib.axis_2\">\n    <g id=\"ytick_1\">\n     <g id=\"line2d_6\">\n      <defs>\n       <path id=\"m4f23ef9884\" d=\"M 0 0 \nL -2 0 \n\" style=\"stroke: #000000; stroke-width: 0.6\"/>\n      </defs>\n      <g>\n       <use xlink:href=\"#m4f23ef9884\" x=\"84.278125\" y=\"236.855191\" style=\"stroke: #000000; stroke-width: 0.6\"/>\n      </g>\n     </g>\n     <g id=\"text_7\">\n      <!-- $\\mathdefault{2.95\\times10^{-1}}$ -->\n      <g transform=\"translate(20.878125 240.65441)scale(0.1 -0.1)\">\n       <defs>\n        <path id=\"DejaVuSans-2e\" d=\"M 684 794 \nL 1344 794 \nL 1344 0 \nL 684 0 \nL 684 794 \nz\n\" transform=\"scale(0.015625)\"/>\n        <path id=\"DejaVuSans-39\" d=\"M 703 97 \nL 703 672 \nQ 941 559 1184 500 \nQ 1428 441 1663 441 \nQ 2288 441 2617 861 \nQ 2947 1281 2994 2138 \nQ 2813 1869 2534 1725 \nQ 2256 1581 1919 1581 \nQ 1219 1581 811 2004 \nQ 403 2428 403 3163 \nQ 403 3881 828 4315 \nQ 1253 4750 1959 4750 \nQ 2769 4750 3195 4129 \nQ 3622 3509 3622 2328 \nQ 3622 1225 3098 567 \nQ 2575 -91 1691 -91 \nQ 1453 -91 1209 -44 \nQ 966 3 703 97 \nz\nM 1959 2075 \nQ 2384 2075 2632 2365 \nQ 2881 2656 2881 3163 \nQ 2881 3666 2632 3958 \nQ 2384 4250 1959 4250 \nQ 1534 4250 1286 3958 \nQ 1038 3666 1038 3163 \nQ 1038 2656 1286 2365 \nQ 1534 2075 1959 2075 \nz\n\" transform=\"scale(0.015625)\"/>\n        <path id=\"DejaVuSans-35\" d=\"M 691 4666 \nL 3169 4666 \nL 3169 4134 \nL 1269 4134 \nL 1269 2991 \nQ 1406 3038 1543 3061 \nQ 1681 3084 1819 3084 \nQ 2600 3084 3056 2656 \nQ 3513 2228 3513 1497 \nQ 3513 744 3044 326 \nQ 2575 -91 1722 -91 \nQ 1428 -91 1123 -41 \nQ 819 9 494 109 \nL 494 744 \nQ 775 591 1075 516 \nQ 1375 441 1709 441 \nQ 2250 441 2565 725 \nQ 2881 1009 2881 1497 \nQ 2881 1984 2565 2268 \nQ 2250 2553 1709 2553 \nQ 1456 2553 1204 2497 \nQ 953 2441 691 2322 \nL 691 4666 \nz\n\" transform=\"scale(0.015625)\"/>\n        <path id=\"DejaVuSans-d7\" d=\"M 4488 3438 \nL 3059 2003 \nL 4488 575 \nL 4116 197 \nL 2681 1631 \nL 1247 197 \nL 878 575 \nL 2303 2003 \nL 878 3438 \nL 1247 3816 \nL 2681 2381 \nL 4116 3816 \nL 4488 3438 \nz\n\" transform=\"scale(0.015625)\"/>\n        <path id=\"DejaVuSans-2212\" d=\"M 678 2272 \nL 4684 2272 \nL 4684 1741 \nL 678 1741 \nL 678 2272 \nz\n\" transform=\"scale(0.015625)\"/>\n       </defs>\n       <use xlink:href=\"#DejaVuSans-32\" transform=\"translate(0 0.684375)\"/>\n       <use xlink:href=\"#DejaVuSans-2e\" transform=\"translate(63.623047 0.684375)\"/>\n       <use xlink:href=\"#DejaVuSans-39\" transform=\"translate(95.410156 0.684375)\"/>\n       <use xlink:href=\"#DejaVuSans-35\" transform=\"translate(159.033203 0.684375)\"/>\n       <use xlink:href=\"#DejaVuSans-d7\" transform=\"translate(242.138672 0.684375)\"/>\n       <use xlink:href=\"#DejaVuSans-31\" transform=\"translate(345.410156 0.684375)\"/>\n       <use xlink:href=\"#DejaVuSans-30\" transform=\"translate(409.033203 0.684375)\"/>\n       <use xlink:href=\"#DejaVuSans-2212\" transform=\"translate(473.613281 38.965625)scale(0.7)\"/>\n       <use xlink:href=\"#DejaVuSans-31\" transform=\"translate(532.265625 38.965625)scale(0.7)\"/>\n      </g>\n     </g>\n    </g>\n    <g id=\"ytick_2\">\n     <g id=\"line2d_7\">\n      <g>\n       <use xlink:href=\"#m4f23ef9884\" x=\"84.278125\" y=\"198.95071\" style=\"stroke: #000000; stroke-width: 0.6\"/>\n      </g>\n     </g>\n     <g id=\"text_8\">\n      <!-- $\\mathdefault{2.96\\times10^{-1}}$ -->\n      <g transform=\"translate(20.878125 202.749928)scale(0.1 -0.1)\">\n       <use xlink:href=\"#DejaVuSans-32\" transform=\"translate(0 0.684375)\"/>\n       <use xlink:href=\"#DejaVuSans-2e\" transform=\"translate(63.623047 0.684375)\"/>\n       <use xlink:href=\"#DejaVuSans-39\" transform=\"translate(95.410156 0.684375)\"/>\n       <use xlink:href=\"#DejaVuSans-36\" transform=\"translate(159.033203 0.684375)\"/>\n       <use xlink:href=\"#DejaVuSans-d7\" transform=\"translate(242.138672 0.684375)\"/>\n       <use xlink:href=\"#DejaVuSans-31\" transform=\"translate(345.410156 0.684375)\"/>\n       <use xlink:href=\"#DejaVuSans-30\" transform=\"translate(409.033203 0.684375)\"/>\n       <use xlink:href=\"#DejaVuSans-2212\" transform=\"translate(473.613281 38.965625)scale(0.7)\"/>\n       <use xlink:href=\"#DejaVuSans-31\" transform=\"translate(532.265625 38.965625)scale(0.7)\"/>\n      </g>\n     </g>\n    </g>\n    <g id=\"ytick_3\">\n     <g id=\"line2d_8\">\n      <g>\n       <use xlink:href=\"#m4f23ef9884\" x=\"84.278125\" y=\"161.174069\" style=\"stroke: #000000; stroke-width: 0.6\"/>\n      </g>\n     </g>\n     <g id=\"text_9\">\n      <!-- $\\mathdefault{2.97\\times10^{-1}}$ -->\n      <g transform=\"translate(20.878125 164.973287)scale(0.1 -0.1)\">\n       <defs>\n        <path id=\"DejaVuSans-37\" d=\"M 525 4666 \nL 3525 4666 \nL 3525 4397 \nL 1831 0 \nL 1172 0 \nL 2766 4134 \nL 525 4134 \nL 525 4666 \nz\n\" transform=\"scale(0.015625)\"/>\n       </defs>\n       <use xlink:href=\"#DejaVuSans-32\" transform=\"translate(0 0.684375)\"/>\n       <use xlink:href=\"#DejaVuSans-2e\" transform=\"translate(63.623047 0.684375)\"/>\n       <use xlink:href=\"#DejaVuSans-39\" transform=\"translate(95.410156 0.684375)\"/>\n       <use xlink:href=\"#DejaVuSans-37\" transform=\"translate(159.033203 0.684375)\"/>\n       <use xlink:href=\"#DejaVuSans-d7\" transform=\"translate(242.138672 0.684375)\"/>\n       <use xlink:href=\"#DejaVuSans-31\" transform=\"translate(345.410156 0.684375)\"/>\n       <use xlink:href=\"#DejaVuSans-30\" transform=\"translate(409.033203 0.684375)\"/>\n       <use xlink:href=\"#DejaVuSans-2212\" transform=\"translate(473.613281 38.965625)scale(0.7)\"/>\n       <use xlink:href=\"#DejaVuSans-31\" transform=\"translate(532.265625 38.965625)scale(0.7)\"/>\n      </g>\n     </g>\n    </g>\n    <g id=\"ytick_4\">\n     <g id=\"line2d_9\">\n      <g>\n       <use xlink:href=\"#m4f23ef9884\" x=\"84.278125\" y=\"123.524408\" style=\"stroke: #000000; stroke-width: 0.6\"/>\n      </g>\n     </g>\n     <g id=\"text_10\">\n      <!-- $\\mathdefault{2.98\\times10^{-1}}$ -->\n      <g transform=\"translate(20.878125 127.323627)scale(0.1 -0.1)\">\n       <use xlink:href=\"#DejaVuSans-32\" transform=\"translate(0 0.684375)\"/>\n       <use xlink:href=\"#DejaVuSans-2e\" transform=\"translate(63.623047 0.684375)\"/>\n       <use xlink:href=\"#DejaVuSans-39\" transform=\"translate(95.410156 0.684375)\"/>\n       <use xlink:href=\"#DejaVuSans-38\" transform=\"translate(159.033203 0.684375)\"/>\n       <use xlink:href=\"#DejaVuSans-d7\" transform=\"translate(242.138672 0.684375)\"/>\n       <use xlink:href=\"#DejaVuSans-31\" transform=\"translate(345.410156 0.684375)\"/>\n       <use xlink:href=\"#DejaVuSans-30\" transform=\"translate(409.033203 0.684375)\"/>\n       <use xlink:href=\"#DejaVuSans-2212\" transform=\"translate(473.613281 38.965625)scale(0.7)\"/>\n       <use xlink:href=\"#DejaVuSans-31\" transform=\"translate(532.265625 38.965625)scale(0.7)\"/>\n      </g>\n     </g>\n    </g>\n    <g id=\"ytick_5\">\n     <g id=\"line2d_10\">\n      <g>\n       <use xlink:href=\"#m4f23ef9884\" x=\"84.278125\" y=\"86.000877\" style=\"stroke: #000000; stroke-width: 0.6\"/>\n      </g>\n     </g>\n     <g id=\"text_11\">\n      <!-- $\\mathdefault{2.99\\times10^{-1}}$ -->\n      <g transform=\"translate(20.878125 89.800096)scale(0.1 -0.1)\">\n       <use xlink:href=\"#DejaVuSans-32\" transform=\"translate(0 0.684375)\"/>\n       <use xlink:href=\"#DejaVuSans-2e\" transform=\"translate(63.623047 0.684375)\"/>\n       <use xlink:href=\"#DejaVuSans-39\" transform=\"translate(95.410156 0.684375)\"/>\n       <use xlink:href=\"#DejaVuSans-39\" transform=\"translate(159.033203 0.684375)\"/>\n       <use xlink:href=\"#DejaVuSans-d7\" transform=\"translate(242.138672 0.684375)\"/>\n       <use xlink:href=\"#DejaVuSans-31\" transform=\"translate(345.410156 0.684375)\"/>\n       <use xlink:href=\"#DejaVuSans-30\" transform=\"translate(409.033203 0.684375)\"/>\n       <use xlink:href=\"#DejaVuSans-2212\" transform=\"translate(473.613281 38.965625)scale(0.7)\"/>\n       <use xlink:href=\"#DejaVuSans-31\" transform=\"translate(532.265625 38.965625)scale(0.7)\"/>\n      </g>\n     </g>\n    </g>\n    <g id=\"ytick_6\">\n     <g id=\"line2d_11\">\n      <g>\n       <use xlink:href=\"#m4f23ef9884\" x=\"84.278125\" y=\"48.602634\" style=\"stroke: #000000; stroke-width: 0.6\"/>\n      </g>\n     </g>\n     <g id=\"text_12\">\n      <!-- $\\mathdefault{3\\times10^{-1}}$ -->\n      <g transform=\"translate(36.778125 52.401852)scale(0.1 -0.1)\">\n       <defs>\n        <path id=\"DejaVuSans-33\" d=\"M 2597 2516 \nQ 3050 2419 3304 2112 \nQ 3559 1806 3559 1356 \nQ 3559 666 3084 287 \nQ 2609 -91 1734 -91 \nQ 1441 -91 1130 -33 \nQ 819 25 488 141 \nL 488 750 \nQ 750 597 1062 519 \nQ 1375 441 1716 441 \nQ 2309 441 2620 675 \nQ 2931 909 2931 1356 \nQ 2931 1769 2642 2001 \nQ 2353 2234 1838 2234 \nL 1294 2234 \nL 1294 2753 \nL 1863 2753 \nQ 2328 2753 2575 2939 \nQ 2822 3125 2822 3475 \nQ 2822 3834 2567 4026 \nQ 2313 4219 1838 4219 \nQ 1578 4219 1281 4162 \nQ 984 4106 628 3988 \nL 628 4550 \nQ 988 4650 1302 4700 \nQ 1616 4750 1894 4750 \nQ 2613 4750 3031 4423 \nQ 3450 4097 3450 3541 \nQ 3450 3153 3228 2886 \nQ 3006 2619 2597 2516 \nz\n\" transform=\"scale(0.015625)\"/>\n       </defs>\n       <use xlink:href=\"#DejaVuSans-33\" transform=\"translate(0 0.684375)\"/>\n       <use xlink:href=\"#DejaVuSans-d7\" transform=\"translate(83.105469 0.684375)\"/>\n       <use xlink:href=\"#DejaVuSans-31\" transform=\"translate(186.376953 0.684375)\"/>\n       <use xlink:href=\"#DejaVuSans-30\" transform=\"translate(250 0.684375)\"/>\n       <use xlink:href=\"#DejaVuSans-2212\" transform=\"translate(314.580078 38.965625)scale(0.7)\"/>\n       <use xlink:href=\"#DejaVuSans-31\" transform=\"translate(373.232422 38.965625)scale(0.7)\"/>\n      </g>\n     </g>\n    </g>\n    <g id=\"ytick_7\">\n     <g id=\"line2d_12\">\n      <g>\n       <use xlink:href=\"#m4f23ef9884\" x=\"84.278125\" y=\"11.328844\" style=\"stroke: #000000; stroke-width: 0.6\"/>\n      </g>\n     </g>\n     <g id=\"text_13\">\n      <!-- $\\mathdefault{3.01\\times10^{-1}}$ -->\n      <g transform=\"translate(20.878125 15.128062)scale(0.1 -0.1)\">\n       <use xlink:href=\"#DejaVuSans-33\" transform=\"translate(0 0.684375)\"/>\n       <use xlink:href=\"#DejaVuSans-2e\" transform=\"translate(63.623047 0.684375)\"/>\n       <use xlink:href=\"#DejaVuSans-30\" transform=\"translate(95.410156 0.684375)\"/>\n       <use xlink:href=\"#DejaVuSans-31\" transform=\"translate(159.033203 0.684375)\"/>\n       <use xlink:href=\"#DejaVuSans-d7\" transform=\"translate(242.138672 0.684375)\"/>\n       <use xlink:href=\"#DejaVuSans-31\" transform=\"translate(345.410156 0.684375)\"/>\n       <use xlink:href=\"#DejaVuSans-30\" transform=\"translate(409.033203 0.684375)\"/>\n       <use xlink:href=\"#DejaVuSans-2212\" transform=\"translate(473.613281 38.965625)scale(0.7)\"/>\n       <use xlink:href=\"#DejaVuSans-31\" transform=\"translate(532.265625 38.965625)scale(0.7)\"/>\n      </g>\n     </g>\n    </g>\n    <g id=\"text_14\">\n     <!-- acc -->\n     <g transform=\"translate(14.798437 148.8185)rotate(-90)scale(0.1 -0.1)\">\n      <defs>\n       <path id=\"DejaVuSans-61\" d=\"M 2194 1759 \nQ 1497 1759 1228 1600 \nQ 959 1441 959 1056 \nQ 959 750 1161 570 \nQ 1363 391 1709 391 \nQ 2188 391 2477 730 \nQ 2766 1069 2766 1631 \nL 2766 1759 \nL 2194 1759 \nz\nM 3341 1997 \nL 3341 0 \nL 2766 0 \nL 2766 531 \nQ 2569 213 2275 61 \nQ 1981 -91 1556 -91 \nQ 1019 -91 701 211 \nQ 384 513 384 1019 \nQ 384 1609 779 1909 \nQ 1175 2209 1959 2209 \nL 2766 2209 \nL 2766 2266 \nQ 2766 2663 2505 2880 \nQ 2244 3097 1772 3097 \nQ 1472 3097 1187 3025 \nQ 903 2953 641 2809 \nL 641 3341 \nQ 956 3463 1253 3523 \nQ 1550 3584 1831 3584 \nQ 2591 3584 2966 3190 \nQ 3341 2797 3341 1997 \nz\n\" transform=\"scale(0.015625)\"/>\n      </defs>\n      <use xlink:href=\"#DejaVuSans-61\"/>\n      <use xlink:href=\"#DejaVuSans-63\" x=\"61.279297\"/>\n      <use xlink:href=\"#DejaVuSans-63\" x=\"116.259766\"/>\n     </g>\n    </g>\n   </g>\n   <g id=\"line2d_13\">\n    <path d=\"M 100.510852 261.216 \nL 136.58358 261.216 \nL 172.656307 261.216 \nL 208.729034 261.216 \nL 244.801761 261.216 \nL 280.874489 261.216 \nL 316.947216 261.216 \nL 353.019943 261.216 \nL 389.09267 261.216 \nL 425.165398 261.216 \n\" clip-path=\"url(#p5b2157416b)\" style=\"fill: none; stroke: #1f77b4; stroke-width: 1.5; stroke-linecap: square\"/>\n   </g>\n   <g id=\"line2d_14\">\n    <path d=\"M 100.510852 19.296 \nL 136.58358 19.296 \nL 172.656307 19.296 \nL 208.729034 19.296 \nL 244.801761 19.296 \nL 280.874489 19.296 \nL 316.947216 19.296 \nL 353.019943 19.296 \nL 389.09267 19.296 \nL 425.165398 19.296 \n\" clip-path=\"url(#p5b2157416b)\" style=\"fill: none; stroke-dasharray: 1.5,2.475; stroke-dashoffset: 0; stroke: #ff7f0e; stroke-width: 1.5\"/>\n   </g>\n   <g id=\"patch_3\">\n    <path d=\"M 84.278125 273.312 \nL 84.278125 7.2 \n\" style=\"fill: none; stroke: #000000; stroke-width: 0.8; stroke-linejoin: miter; stroke-linecap: square\"/>\n   </g>\n   <g id=\"patch_4\">\n    <path d=\"M 441.398125 273.312 \nL 441.398125 7.2 \n\" style=\"fill: none; stroke: #000000; stroke-width: 0.8; stroke-linejoin: miter; stroke-linecap: square\"/>\n   </g>\n   <g id=\"patch_5\">\n    <path d=\"M 84.278125 273.312 \nL 441.398125 273.312 \n\" style=\"fill: none; stroke: #000000; stroke-width: 0.8; stroke-linejoin: miter; stroke-linecap: square\"/>\n   </g>\n   <g id=\"patch_6\">\n    <path d=\"M 84.278125 7.2 \nL 441.398125 7.2 \n\" style=\"fill: none; stroke: #000000; stroke-width: 0.8; stroke-linejoin: miter; stroke-linecap: square\"/>\n   </g>\n   <g id=\"legend_1\">\n    <g id=\"patch_7\">\n     <path d=\"M 379.123125 156.434125 \nL 434.398125 156.434125 \nQ 436.398125 156.434125 436.398125 154.434125 \nL 436.398125 126.077875 \nQ 436.398125 124.077875 434.398125 124.077875 \nL 379.123125 124.077875 \nQ 377.123125 124.077875 377.123125 126.077875 \nL 377.123125 154.434125 \nQ 377.123125 156.434125 379.123125 156.434125 \nz\n\" style=\"fill: #ffffff; opacity: 0.8; stroke: #cccccc; stroke-linejoin: miter\"/>\n    </g>\n    <g id=\"line2d_15\">\n     <path d=\"M 381.123125 132.176313 \nL 391.123125 132.176313 \nL 401.123125 132.176313 \n\" style=\"fill: none; stroke: #1f77b4; stroke-width: 1.5; stroke-linecap: square\"/>\n    </g>\n    <g id=\"text_15\">\n     <!-- train -->\n     <g transform=\"translate(409.123125 135.676313)scale(0.1 -0.1)\">\n      <defs>\n       <path id=\"DejaVuSans-74\" d=\"M 1172 4494 \nL 1172 3500 \nL 2356 3500 \nL 2356 3053 \nL 1172 3053 \nL 1172 1153 \nQ 1172 725 1289 603 \nQ 1406 481 1766 481 \nL 2356 481 \nL 2356 0 \nL 1766 0 \nQ 1100 0 847 248 \nQ 594 497 594 1153 \nL 594 3053 \nL 172 3053 \nL 172 3500 \nL 594 3500 \nL 594 4494 \nL 1172 4494 \nz\n\" transform=\"scale(0.015625)\"/>\n       <path id=\"DejaVuSans-72\" d=\"M 2631 2963 \nQ 2534 3019 2420 3045 \nQ 2306 3072 2169 3072 \nQ 1681 3072 1420 2755 \nQ 1159 2438 1159 1844 \nL 1159 0 \nL 581 0 \nL 581 3500 \nL 1159 3500 \nL 1159 2956 \nQ 1341 3275 1631 3429 \nQ 1922 3584 2338 3584 \nQ 2397 3584 2469 3576 \nQ 2541 3569 2628 3553 \nL 2631 2963 \nz\n\" transform=\"scale(0.015625)\"/>\n       <path id=\"DejaVuSans-69\" d=\"M 603 3500 \nL 1178 3500 \nL 1178 0 \nL 603 0 \nL 603 3500 \nz\nM 603 4863 \nL 1178 4863 \nL 1178 4134 \nL 603 4134 \nL 603 4863 \nz\n\" transform=\"scale(0.015625)\"/>\n       <path id=\"DejaVuSans-6e\" d=\"M 3513 2113 \nL 3513 0 \nL 2938 0 \nL 2938 2094 \nQ 2938 2591 2744 2837 \nQ 2550 3084 2163 3084 \nQ 1697 3084 1428 2787 \nQ 1159 2491 1159 1978 \nL 1159 0 \nL 581 0 \nL 581 3500 \nL 1159 3500 \nL 1159 2956 \nQ 1366 3272 1645 3428 \nQ 1925 3584 2291 3584 \nQ 2894 3584 3203 3211 \nQ 3513 2838 3513 2113 \nz\n\" transform=\"scale(0.015625)\"/>\n      </defs>\n      <use xlink:href=\"#DejaVuSans-74\"/>\n      <use xlink:href=\"#DejaVuSans-72\" x=\"39.208984\"/>\n      <use xlink:href=\"#DejaVuSans-61\" x=\"80.322266\"/>\n      <use xlink:href=\"#DejaVuSans-69\" x=\"141.601562\"/>\n      <use xlink:href=\"#DejaVuSans-6e\" x=\"169.384766\"/>\n     </g>\n    </g>\n    <g id=\"line2d_16\">\n     <path d=\"M 381.123125 146.854438 \nL 391.123125 146.854438 \nL 401.123125 146.854438 \n\" style=\"fill: none; stroke-dasharray: 1.5,2.475; stroke-dashoffset: 0; stroke: #ff7f0e; stroke-width: 1.5\"/>\n    </g>\n    <g id=\"text_16\">\n     <!-- test -->\n     <g transform=\"translate(409.123125 150.354438)scale(0.1 -0.1)\">\n      <defs>\n       <path id=\"DejaVuSans-73\" d=\"M 2834 3397 \nL 2834 2853 \nQ 2591 2978 2328 3040 \nQ 2066 3103 1784 3103 \nQ 1356 3103 1142 2972 \nQ 928 2841 928 2578 \nQ 928 2378 1081 2264 \nQ 1234 2150 1697 2047 \nL 1894 2003 \nQ 2506 1872 2764 1633 \nQ 3022 1394 3022 966 \nQ 3022 478 2636 193 \nQ 2250 -91 1575 -91 \nQ 1294 -91 989 -36 \nQ 684 19 347 128 \nL 347 722 \nQ 666 556 975 473 \nQ 1284 391 1588 391 \nQ 1994 391 2212 530 \nQ 2431 669 2431 922 \nQ 2431 1156 2273 1281 \nQ 2116 1406 1581 1522 \nL 1381 1569 \nQ 847 1681 609 1914 \nQ 372 2147 372 2553 \nQ 372 3047 722 3315 \nQ 1072 3584 1716 3584 \nQ 2034 3584 2315 3537 \nQ 2597 3491 2834 3397 \nz\n\" transform=\"scale(0.015625)\"/>\n      </defs>\n      <use xlink:href=\"#DejaVuSans-74\"/>\n      <use xlink:href=\"#DejaVuSans-65\" x=\"39.208984\"/>\n      <use xlink:href=\"#DejaVuSans-73\" x=\"100.732422\"/>\n      <use xlink:href=\"#DejaVuSans-74\" x=\"152.832031\"/>\n     </g>\n    </g>\n   </g>\n  </g>\n </g>\n <defs>\n  <clipPath id=\"p5b2157416b\">\n   <rect x=\"84.278125\" y=\"7.2\" width=\"357.12\" height=\"266.112\"/>\n  </clipPath>\n </defs>\n</svg>\n"
     },
     "metadata": {},
     "output_type": "display_data"
    }
   ],
   "execution_count": 279
  },
  {
   "metadata": {},
   "cell_type": "markdown",
   "source": [
    "## batch_size, lr, num_epochs = 256, 0.1, 10\n",
    "\n",
    "```text\n",
    "training on cpu\n",
    "Epoch 1: Loss 12987.1523, Accuracy 0.2992\n",
    "Epoch 2: Loss 12886.8466, Accuracy 0.2995\n",
    "Epoch 3: Loss 12852.4375, Accuracy 0.2992\n",
    "Epoch 4: Loss 12838.6850, Accuracy 0.3002\n",
    "Epoch 5: Loss 12831.7347, Accuracy 0.2992\n",
    "Epoch 6: Loss 12827.8995, Accuracy 0.3003\n",
    "Epoch 7: Loss 12826.1151, Accuracy 0.3010\n",
    "Epoch 8: Loss 12824.8745, Accuracy 0.3034\n",
    "Epoch 9: Loss 12823.6724, Accuracy 0.2992\n",
    "Epoch 10: Loss 12822.8669, Accuracy 0.3014\n",
    "```"
   ],
   "id": "a25b20e86d7bb561"
  },
  {
   "metadata": {},
   "cell_type": "markdown",
   "source": [
    "## batch_size, lr, num_epochs = 256, 0.5, 10\n",
    "\n",
    "```text\n",
    "training on cpu\n",
    "Epoch 1: Loss 12825.2286, Accuracy 0.3081\n",
    "Epoch 2: Loss 12821.7119, Accuracy 0.3103\n",
    "Epoch 3: Loss 12819.0376, Accuracy 0.3003\n",
    "Epoch 4: Loss 12814.0477, Accuracy 0.3192\n",
    "Epoch 5: Loss 12803.9242, Accuracy 0.3193\n",
    "Epoch 6: Loss 12794.5381, Accuracy 0.3234\n",
    "Epoch 7: Loss 12774.9155, Accuracy 0.3383\n",
    "Epoch 8: Loss 12748.2485, Accuracy 0.3836\n",
    "Epoch 9: Loss 12706.7033, Accuracy 0.3817\n",
    "Epoch 10: Loss 12640.8037, Accuracy 0.4071\n",
    "```"
   ],
   "id": "96bcd4ddef507b96"
  },
  {
   "metadata": {},
   "cell_type": "markdown",
   "source": [
    "## batch_size, lr, num_epochs = 256, 0.5, 10\n",
    "\n",
    "```text\n",
    "training on cpu\n",
    "Epoch 1: Loss 12548.0105, Accuracy 0.4445\n",
    "Epoch 2: Loss 12429.4254, Accuracy 0.4399\n",
    "Epoch 3: Loss 12264.4489, Accuracy 0.4467\n",
    "Epoch 4: Loss 12034.5601, Accuracy 0.4673\n",
    "Epoch 5: Loss 11819.4379, Accuracy 0.4645\n",
    "Epoch 6: Loss 11616.8942, Accuracy 0.4474\n",
    "Epoch 7: Loss 11363.7534, Accuracy 0.4526\n",
    "Epoch 8: Loss 11203.7427, Accuracy 0.4548\n",
    "Epoch 9: Loss 11379.9377, Accuracy 0.3997\n",
    "Epoch 10: Loss 11009.7984, Accuracy 0.4250\n",
    "Epoch 11: Loss 10640.3052, Accuracy 0.4561\n",
    "Epoch 12: Loss 10498.5441, Accuracy 0.4617\n",
    "Epoch 13: Loss 10048.4591, Accuracy 0.5060\n",
    "Epoch 14: Loss 10184.2839, Accuracy 0.4801\n",
    "Epoch 15: Loss 9648.3446, Accuracy 0.5150\n",
    "Epoch 16: Loss 9135.5362, Accuracy 0.5846\n",
    "Epoch 17: Loss 9343.0057, Accuracy 0.5522\n",
    "Epoch 18: Loss 9188.6095, Accuracy 0.5447\n",
    "Epoch 19: Loss 8977.1439, Accuracy 0.5588\n",
    "Epoch 20: Loss 8420.5632, Accuracy 0.6081\n",
    "Epoch 21: Loss 8490.2630, Accuracy 0.5899\n",
    "Epoch 22: Loss 8062.2673, Accuracy 0.6199\n",
    "Epoch 23: Loss 7744.1738, Accuracy 0.6537\n",
    "Epoch 24: Loss 7895.3377, Accuracy 0.6200\n",
    "Epoch 25: Loss 7841.7385, Accuracy 0.6326\n",
    "Epoch 26: Loss 7254.8940, Accuracy 0.6700\n",
    "Epoch 27: Loss 7331.7382, Accuracy 0.6695\n",
    "Epoch 28: Loss 7431.7336, Accuracy 0.6572\n",
    "Epoch 29: Loss 7040.0912, Accuracy 0.6920\n",
    "Epoch 30: Loss 6723.7996, Accuracy 0.6835\n",
    "Epoch 31: Loss 6926.3133, Accuracy 0.6883\n",
    "Epoch 32: Loss 6527.7595, Accuracy 0.7021\n",
    "Epoch 33: Loss 5844.5896, Accuracy 0.7434\n",
    "Epoch 34: Loss 6800.1134, Accuracy 0.6926\n",
    "Epoch 35: Loss 5941.9769, Accuracy 0.7282\n",
    "Epoch 36: Loss 6107.0857, Accuracy 0.7345\n",
    "Epoch 37: Loss 6369.5926, Accuracy 0.7106\n",
    "Epoch 38: Loss 5879.8370, Accuracy 0.7401\n",
    "Epoch 39: Loss 5657.3420, Accuracy 0.7615\n",
    "Epoch 40: Loss 5766.9596, Accuracy 0.7599\n",
    "Epoch 41: Loss 5850.0123, Accuracy 0.7402\n",
    "Epoch 42: Loss 5159.7880, Accuracy 0.7792\n",
    "Epoch 43: Loss 5498.7687, Accuracy 0.7474\n",
    "Epoch 44: Loss 5519.2371, Accuracy 0.7685\n",
    "Epoch 45: Loss 5193.5380, Accuracy 0.7611\n",
    "Epoch 46: Loss 4683.3619, Accuracy 0.7976\n",
    "Epoch 47: Loss 5162.0233, Accuracy 0.7890\n",
    "Epoch 48: Loss 4415.0576, Accuracy 0.8120\n",
    "Epoch 49: Loss 4922.3352, Accuracy 0.7920\n",
    "Epoch 50: Loss 4507.6059, Accuracy 0.8138\n",
    "```"
   ],
   "id": "bea1b944becbc8c9"
  },
  {
   "metadata": {},
   "cell_type": "code",
   "outputs": [],
   "execution_count": null,
   "source": "",
   "id": "cb7c9d76e75b30f"
  }
 ],
 "metadata": {
  "kernelspec": {
   "display_name": "dl_venv",
   "language": "python",
   "name": "dl_venv"
  },
  "language_info": {
   "codemirror_mode": {
    "name": "ipython",
    "version": 3
   },
   "file_extension": ".py",
   "mimetype": "text/x-python",
   "name": "python",
   "nbconvert_exporter": "python",
   "pygments_lexer": "ipython3",
   "version": "3.12.6"
  }
 },
 "nbformat": 4,
 "nbformat_minor": 5
}
