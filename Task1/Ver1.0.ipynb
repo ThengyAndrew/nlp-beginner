{
 "cells": [
  {
   "cell_type": "markdown",
   "id": "edae3582-7460-4e75-a581-ff9ce88185cd",
   "metadata": {},
   "source": [
    "# 向量空间模型"
   ]
  },
  {
   "metadata": {
    "ExecuteTime": {
     "end_time": "2025-03-06T02:12:58.511157Z",
     "start_time": "2025-03-06T02:12:54.335957Z"
    }
   },
   "cell_type": "code",
   "source": [
    "import re\n",
    "import torch\n",
    "import torch.nn.functional as F\n",
    "import pandas as pd\n",
    "import numpy as np"
   ],
   "id": "b2fe23782c5304cc",
   "outputs": [],
   "execution_count": 1
  },
  {
   "metadata": {},
   "cell_type": "markdown",
   "source": [
    "texts = [\n",
    "    \"I am happy.\",\n",
    "    \"You are happy.\",\n",
    "    \"I am you\"\n",
    "]"
   ],
   "id": "d4f5e554e6003037"
  },
  {
   "metadata": {
    "ExecuteTime": {
     "end_time": "2025-03-06T02:13:01.891963Z",
     "start_time": "2025-03-06T02:13:01.840830Z"
    }
   },
   "cell_type": "code",
   "source": [
    "df = pd.read_csv('new_train.tsv', header=0, sep='\\t')\n",
    "texts = list(np.array(df)[:, 0])"
   ],
   "id": "afbcf39012f0e68d",
   "outputs": [],
   "execution_count": 2
  },
  {
   "cell_type": "code",
   "id": "f60da654-0f12-4ab0-927b-76b0358b2a7a",
   "metadata": {
    "ExecuteTime": {
     "end_time": "2025-03-06T02:13:02.964201Z",
     "start_time": "2025-03-06T02:13:02.936457Z"
    }
   },
   "source": [
    "class Bag:\n",
    "    def __init__(self, texts):\n",
    "        self.__texts = []\n",
    "        self.__len = -1\n",
    "        self.__value = {}\n",
    "        for text in texts:\n",
    "            words = re.split(r'\\W+', text.lower())\n",
    "            self.__texts.append(words)\n",
    "            for word in words:\n",
    "                if word not in self.__value and len(word) > 0:\n",
    "                    self.__len += 1\n",
    "                    self.__value[word] = self.__len\n",
    "\n",
    "\n",
    "    def inquiry(self, word):\n",
    "        if word not in self.__value:\n",
    "            pass\n",
    "        else:\n",
    "            return self.__value[word]\n",
    "\n",
    "    def len(self):\n",
    "        return self.__len\n",
    "\n",
    "    def __str__(self):\n",
    "        return f\"<Bag> value: {str(self.__value)}; length: {str(self.__len)}\"\n",
    "\n",
    "    def value(self):\n",
    "        return self.__value\n"
   ],
   "outputs": [],
   "execution_count": 3
  },
  {
   "cell_type": "code",
   "id": "32044496-82bc-4be9-a2f4-8da236fd0d2b",
   "metadata": {
    "ExecuteTime": {
     "end_time": "2025-03-06T02:13:04.344405Z",
     "start_time": "2025-03-06T02:13:04.328342Z"
    }
   },
   "source": [
    "def word2vec(word, bag):\n",
    "    dimension = bag.len()+1\n",
    "    vec = torch.zeros(dimension)\n",
    "    vec[bag.inquiry(word)] = 1\n",
    "    return vec\n"
   ],
   "outputs": [],
   "execution_count": 4
  },
  {
   "metadata": {
    "ExecuteTime": {
     "end_time": "2025-03-06T02:13:05.508338Z",
     "start_time": "2025-03-06T02:13:05.496650Z"
    }
   },
   "cell_type": "code",
   "source": [
    "class Query:\n",
    "    def __init__(self, word, vec):\n",
    "        self.__word = word\n",
    "        self.__vec = vec\n",
    "\n",
    "    def __repr__(self):\n",
    "        return f\"<Query> word: {self.__word}; vec: {self.__vec}\"\n",
    "\n",
    "    def word(self):\n",
    "        return self.__word"
   ],
   "id": "50305d93cf03ec3f",
   "outputs": [],
   "execution_count": 5
  },
  {
   "metadata": {
    "ExecuteTime": {
     "end_time": "2025-03-06T02:13:06.689683Z",
     "start_time": "2025-03-06T02:13:06.658150Z"
    }
   },
   "cell_type": "code",
   "source": [
    "class Document:\n",
    "    def __init__(self, text, bag):\n",
    "        self.__text = text\n",
    "        self.__queries = []\n",
    "        self.__bag = bag\n",
    "        for word in self.__text:\n",
    "            if len(word) > 0:\n",
    "                # print(word)\n",
    "                self.__queries.append(Query(word, word2vec(word, bag)))\n",
    "        self.__init_tf()\n",
    "        self.__vector = torch.zeros(self.__bag.len()+1)\n",
    "\n",
    "\n",
    "    def __repr__(self):\n",
    "        return f\"<Document> text: {self.__text}; queries: {self.__queries}\"\n",
    "\n",
    "    def __init_tf(self):\n",
    "        text_length = len(self.__queries)\n",
    "        bag_length = self.__bag.len()\n",
    "        frequency = torch.zeros(bag_length+1)\n",
    "\n",
    "        # self.__tf = torch.cat([torch.zeros([1,bag_length+1]), torch.arange(0,bag_length+1,1).reshape(1,-1)],0).t()\n",
    "\n",
    "        # print(self.__queries)\n",
    "\n",
    "        for query in self.__queries:\n",
    "            word = query.word()\n",
    "            key = self.__bag.inquiry(word)\n",
    "            # self.__tf[key][0] += 1.0\n",
    "            frequency[key] += 1\n",
    "        self.__tf = frequency/text_length\n",
    "        # print(f\"<tf> {self.__tf}\")\n",
    "\n",
    "    def tf(self):\n",
    "        return self.__tf\n",
    "\n",
    "    def assign_vector(self, value):\n",
    "        self.__vector = value\n",
    "\n",
    "    def vector(self):\n",
    "        return self.__vector"
   ],
   "id": "c6f724fce3c8ffe0",
   "outputs": [],
   "execution_count": 6
  },
  {
   "metadata": {
    "ExecuteTime": {
     "end_time": "2025-03-06T02:15:45.905948Z",
     "start_time": "2025-03-06T02:15:45.881061Z"
    }
   },
   "cell_type": "code",
   "source": [
    "class Documents:\n",
    "    def __init__(self, texts):\n",
    "        self.__texts = texts\n",
    "        self.__bag = Bag(texts)\n",
    "        # print(self.__bag)\n",
    "        self.__value = []\n",
    "\n",
    "    def init_doc(self, a, b):\n",
    "        for text in self.__texts[a:b]:\n",
    "            self.__value.append(Document(re.split(r'\\W+', text.lower()), self.__bag))\n",
    "        self.__init_idf()\n",
    "        self.__init_vector()\n",
    "\n",
    "\n",
    "    def __str__(self):\n",
    "        return f\"<Documents>\\nbag: {str(self.__bag)}; value: {str(self.__value)}\"\n",
    "\n",
    "    def __getitem__(self, index):\n",
    "        return self.__value[index]\n",
    "\n",
    "    def __init_idf(self):\n",
    "        doc_length = len(self.__value)\n",
    "        bag_length = self.__bag.len()\n",
    "        frequency = torch.zeros(bag_length+1)\n",
    "        for word in self.__bag.value():\n",
    "            # print(word)\n",
    "            word_id = self.__bag.inquiry(word)\n",
    "            for doc in self.__value:\n",
    "                # print(doc.tf()[word_id])\n",
    "                if doc.tf()[word_id] > torch.tensor(0.0):\n",
    "                    frequency[word_id] += 1\n",
    "        # print(frequency)\n",
    "        self.__idf = torch.log(doc_length/(frequency+1))\n",
    "        # print(f\"<idf> {self.__idf}\")\n",
    "\n",
    "    def idf(self):\n",
    "        return self.__idf\n",
    "\n",
    "    def __init_vector(self):\n",
    "        for doc in self.__value:\n",
    "            vector = torch.zeros(self.__bag.len()+1)\n",
    "            vector = torch.mul(self.__idf, doc.tf())\n",
    "            doc.assign_vector(vector)\n",
    "\n",
    "    def value(self):\n",
    "        return self.__value"
   ],
   "id": "b89471a33e05b7f5",
   "outputs": [],
   "execution_count": 12
  },
  {
   "metadata": {
    "ExecuteTime": {
     "end_time": "2025-03-06T02:15:47.560178Z",
     "start_time": "2025-03-06T02:15:46.645961Z"
    }
   },
   "cell_type": "code",
   "source": [
    "documents = Documents(texts)\n",
    "documents.init_doc(0, 5)"
   ],
   "id": "4ece43619059e5b6",
   "outputs": [],
   "execution_count": 13
  },
  {
   "metadata": {
    "ExecuteTime": {
     "end_time": "2025-03-06T02:15:47.595697Z",
     "start_time": "2025-03-06T02:15:47.565363Z"
    }
   },
   "cell_type": "code",
   "source": [
    "for doc in documents.value():\n",
    "    print(doc.vector())"
   ],
   "id": "4357e2284641f673",
   "outputs": [
    {
     "name": "stdout",
     "output_type": "stream",
     "text": [
      "tensor([0.0509, 0.0509, 0.0124,  ..., 0.0000, 0.0000, 0.0000])\n",
      "tensor([0.0000, 0.0000, 0.0194,  ..., 0.0000, 0.0000, 0.0000])\n",
      "tensor([0., 0., 0.,  ..., 0., 0., 0.])\n",
      "tensor([0.0000, 0.0000, 0.0117,  ..., 0.0000, 0.0000, 0.0000])\n",
      "tensor([0., 0., 0.,  ..., 0., 0., 0.])\n"
     ]
    }
   ],
   "execution_count": 14
  },
  {
   "metadata": {
    "ExecuteTime": {
     "end_time": "2025-03-05T13:19:47.601862Z",
     "start_time": "2025-03-05T13:19:47.586740Z"
    }
   },
   "cell_type": "code",
   "source": [
    "for (a, b) in zip(documents.value(), documents.value()[1:]):\n",
    "    print(a.vector(), b.vector())\n",
    "    print(torch.cosine_similarity(a.vector(), b.vector(),dim=0))"
   ],
   "id": "ae72165319acdd9b",
   "outputs": [
    {
     "name": "stdout",
     "output_type": "stream",
     "text": [
      "tensor([0.1352, 0.1352, 0.1352, 0.0000, 0.0000]) tensor([0.0000, 0.0000, 0.1352, 0.1352, 0.3662])\n",
      "tensor(0.1889)\n",
      "tensor([0.0000, 0.0000, 0.1352, 0.1352, 0.3662]) tensor([0.1352, 0.1352, 0.0000, 0.1352, 0.0000])\n",
      "tensor(0.1889)\n"
     ]
    }
   ],
   "execution_count": 412
  },
  {
   "metadata": {
    "ExecuteTime": {
     "end_time": "2025-03-05T13:23:35.743863Z",
     "start_time": "2025-03-05T13:23:35.728051Z"
    }
   },
   "cell_type": "code",
   "source": [
    "length = documents.value().__len__()\n",
    "similarity = torch.zeros([length, length])\n",
    "similarity"
   ],
   "id": "a64b338cc3ac8f1c",
   "outputs": [
    {
     "data": {
      "text/plain": [
       "tensor([[0., 0., 0.],\n",
       "        [0., 0., 0.],\n",
       "        [0., 0., 0.]])"
      ]
     },
     "execution_count": 426,
     "metadata": {},
     "output_type": "execute_result"
    }
   ],
   "execution_count": 426
  },
  {
   "metadata": {
    "ExecuteTime": {
     "end_time": "2025-03-05T13:26:09.921032Z",
     "start_time": "2025-03-05T13:26:09.905366Z"
    }
   },
   "cell_type": "code",
   "source": [
    "for i in range(length):\n",
    "    for j in range(length):\n",
    "        # print(documents.value()[i].vector(), documents.value()[j].vector())\n",
    "        veci = documents.value()[i].vector()\n",
    "        vecj = documents.value()[j].vector()\n",
    "        similarity[i][j] = torch.cosine_similarity(veci, vecj, dim=0)\n",
    "print(similarity)"
   ],
   "id": "d8ac78dc6df6e5c3",
   "outputs": [
    {
     "name": "stdout",
     "output_type": "stream",
     "text": [
      "tensor([[1.0000, 0.1889, 0.6667],\n",
      "        [0.1889, 1.0000, 0.1889],\n",
      "        [0.6667, 0.1889, 1.0000]])\n"
     ]
    }
   ],
   "execution_count": 440
  }
 ],
 "metadata": {
  "kernelspec": {
   "display_name": "dl_venv",
   "language": "python",
   "name": "dl_venv"
  },
  "language_info": {
   "codemirror_mode": {
    "name": "ipython",
    "version": 3
   },
   "file_extension": ".py",
   "mimetype": "text/x-python",
   "name": "python",
   "nbconvert_exporter": "python",
   "pygments_lexer": "ipython3",
   "version": "3.12.6"
  }
 },
 "nbformat": 4,
 "nbformat_minor": 5
}
