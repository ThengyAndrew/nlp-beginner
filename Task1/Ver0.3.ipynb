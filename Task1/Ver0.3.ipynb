{
 "cells": [
  {
   "cell_type": "code",
   "id": "initial_id",
   "metadata": {
    "collapsed": true,
    "ExecuteTime": {
     "end_time": "2025-03-08T09:02:35.138203Z",
     "start_time": "2025-03-08T09:02:35.130001Z"
    }
   },
   "source": [
    "def func(*args):\n",
    "    print(f\"args:{args}\\ntype:{type(args)}\\nargs[0]:{args[0]}\")\n",
    "    return args"
   ],
   "outputs": [
    {
     "ename": "SyntaxError",
     "evalue": "can't use starred expression here (1049154497.py, line 3)",
     "output_type": "error",
     "traceback": [
      "\u001B[1;36m  Cell \u001B[1;32mIn[11], line 3\u001B[1;36m\u001B[0m\n\u001B[1;33m    return *args\u001B[0m\n\u001B[1;37m           ^\u001B[0m\n\u001B[1;31mSyntaxError\u001B[0m\u001B[1;31m:\u001B[0m can't use starred expression here\n"
     ]
    }
   ],
   "execution_count": 11
  },
  {
   "metadata": {
    "ExecuteTime": {
     "end_time": "2025-03-08T09:00:23.641279Z",
     "start_time": "2025-03-08T09:00:23.630748Z"
    }
   },
   "cell_type": "code",
   "source": "func(\"yes!\")",
   "id": "d130f53f33c8060e",
   "outputs": [
    {
     "name": "stdout",
     "output_type": "stream",
     "text": [
      "args:('yes!',)\n",
      "type:<class 'tuple'>\n",
      "args[0]:yes!\n"
     ]
    }
   ],
   "execution_count": 4
  },
  {
   "metadata": {
    "ExecuteTime": {
     "end_time": "2025-03-08T09:00:53.534214Z",
     "start_time": "2025-03-08T09:00:53.527623Z"
    }
   },
   "cell_type": "code",
   "source": "func([1,2,3], [4,5,6])",
   "id": "c4b350f924611d95",
   "outputs": [
    {
     "name": "stdout",
     "output_type": "stream",
     "text": [
      "args:([1, 2, 3], [4, 5, 6])\n",
      "type:<class 'tuple'>\n",
      "args[0]:[1, 2, 3]\n"
     ]
    }
   ],
   "execution_count": 7
  },
  {
   "metadata": {
    "ExecuteTime": {
     "end_time": "2025-03-08T09:01:45.485977Z",
     "start_time": "2025-03-08T09:01:45.474073Z"
    }
   },
   "cell_type": "code",
   "source": "func(func(\"yes!\"))",
   "id": "7fbde58b9c6a092b",
   "outputs": [
    {
     "name": "stdout",
     "output_type": "stream",
     "text": [
      "args:('yes!',)\n",
      "type:<class 'tuple'>\n",
      "args[0]:yes!\n",
      "args:(('yes!',),)\n",
      "type:<class 'tuple'>\n",
      "args[0]:('yes!',)\n"
     ]
    },
    {
     "data": {
      "text/plain": [
       "(('yes!',),)"
      ]
     },
     "execution_count": 10,
     "metadata": {},
     "output_type": "execute_result"
    }
   ],
   "execution_count": 10
  },
  {
   "metadata": {},
   "cell_type": "code",
   "outputs": [],
   "execution_count": null,
   "source": "",
   "id": "ac43c327fd65a09"
  }
 ],
 "metadata": {
  "kernelspec": {
   "display_name": "Python 3",
   "language": "python",
   "name": "python3"
  },
  "language_info": {
   "codemirror_mode": {
    "name": "ipython",
    "version": 2
   },
   "file_extension": ".py",
   "mimetype": "text/x-python",
   "name": "python",
   "nbconvert_exporter": "python",
   "pygments_lexer": "ipython2",
   "version": "2.7.6"
  }
 },
 "nbformat": 4,
 "nbformat_minor": 5
}
