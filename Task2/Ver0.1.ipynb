{
 "cells": [
  {
   "metadata": {},
   "cell_type": "markdown",
   "source": [
    "# NNLM\n",
    "> https://blog.csdn.net/rongsenmeng2835/article/details/108571335"
   ],
   "id": "b00db612709e5f2e"
  },
  {
   "metadata": {
    "ExecuteTime": {
     "end_time": "2025-03-12T03:53:54.167687Z",
     "start_time": "2025-03-12T03:53:54.154671Z"
    }
   },
   "cell_type": "code",
   "source": [
    "import torch\n",
    "import numpy as np\n",
    "import torch.nn as nn\n",
    "import torch.nn.functional as F\n",
    "import torch.optim as optim\n",
    "from torch.autograd import Variable"
   ],
   "id": "5dfbb03629e47659",
   "outputs": [],
   "execution_count": 6
  },
  {
   "cell_type": "code",
   "id": "initial_id",
   "metadata": {
    "collapsed": true,
    "ExecuteTime": {
     "end_time": "2025-03-12T03:56:09.264971Z",
     "start_time": "2025-03-12T03:56:09.249905Z"
    }
   },
   "source": [
    "\"\"\"\n",
    "1.Basic Embedding Model\n",
    "    1-1. NNLM(Neural Network Language Model)\n",
    "\"\"\"\n",
    "\n",
    "dtype = torch.FloatTensor\n",
    "sentences = [\"i really like dog\", \"i doubtfully love coffee\", \"i sincerely hate milk\"]\n",
    "\n",
    "word_list = \" \".join(sentences).split()  # 制作词汇表\n",
    "print(word_list)\n",
    "word_list = list(set(word_list))  # 去除词汇表中的重复元素\n",
    "print(\"去重后的word_list:\", word_list)\n",
    "word_dict = {w: i for i, w in enumerate(word_list)}  # 将每个单词对应于相应的索引\n",
    "number_dict = {i: w for i, w in enumerate(word_list)}  # 将每个索引对应于相应的单词\n",
    "n_class = len(word_dict)  # 单词的总数\n",
    "\n",
    "# NNLM parameters\n",
    "n_step = 3   # 根据前两个单词预测第3个单词\n",
    "n_hidden = 2  # 隐藏层神经元的个数\n",
    "m = 3  # 词向量的维度"
   ],
   "outputs": [
    {
     "name": "stdout",
     "output_type": "stream",
     "text": [
      "['i', 'really', 'like', 'dog', 'i', 'doubtfully', 'love', 'coffee', 'i', 'sincerely', 'hate', 'milk']\n",
      "去重后的word_list: ['i', 'like', 'love', 'coffee', 'hate', 'really', 'milk', 'doubtfully', 'sincerely', 'dog']\n"
     ]
    }
   ],
   "execution_count": 16
  },
  {
   "metadata": {
    "ExecuteTime": {
     "end_time": "2025-03-12T03:56:10.244666Z",
     "start_time": "2025-03-12T03:56:10.231319Z"
    }
   },
   "cell_type": "code",
   "source": [
    "# 由于pytorch中输入的数据是以batch小批量进行输入的，下面的函数就是将原始数据以一个batch为基本单位喂给模型\n",
    "def make_batch(sentences):\n",
    "    input_batch = []\n",
    "    target_batch = []\n",
    "    for sentence in sentences:\n",
    "        word = sentence.split()\n",
    "        input = [word_dict[w] for w in word[:-1]]\n",
    "        target = word_dict[word[-1]]\n",
    "        input_batch.append(input)\n",
    "        target_batch.append(target)\n",
    "    return input_batch, target_batch"
   ],
   "id": "49284176108d1e8b",
   "outputs": [],
   "execution_count": 17
  },
  {
   "metadata": {
    "ExecuteTime": {
     "end_time": "2025-03-12T04:22:29.501869Z",
     "start_time": "2025-03-12T04:22:29.470576Z"
    }
   },
   "cell_type": "code",
   "source": [
    "# Model\n",
    "\n",
    "\n",
    "class NNLM(nn.Module):\n",
    "    def __init__(self):\n",
    "        super(NNLM, self).__init__()\n",
    "        self.C = nn.Embedding(n_class, embedding_dim=m)\n",
    "        self.H = nn.Parameter(torch.randn(n_step * m, n_hidden).type(dtype))\n",
    "        self.W = nn.Parameter(torch.randn(n_step * m, n_class).type(dtype))\n",
    "        self.d = nn.Parameter(torch.randn(n_hidden).type(dtype))\n",
    "        self.U = nn.Parameter(torch.randn(n_hidden, n_class).type(dtype))\n",
    "        self.b = nn.Parameter(torch.randn(n_class).type(dtype))\n",
    "\n",
    "    def forward(self, x):\n",
    "        x = self.C(x)\n",
    "        x = x.view(-1, n_step * m)\n",
    "        # x: [batch_size, n_step*n_class]\n",
    "        tanh = torch.tanh(self.d + torch.mm(x, self.H))\n",
    "        # tanh: [batch_size, n_hidden]\n",
    "        output = self.b + torch.mm(x, self.W) + torch.mm(tanh, self.U)\n",
    "        # output: [batch_size, n_class]\n",
    "        return output\n",
    "\n",
    "    def embed(self,x):\n",
    "        return self.C(x)\n",
    "        # print(self.C.weight)\n",
    "\n",
    "model = NNLM()\n",
    "\n",
    "criterion = nn.CrossEntropyLoss()\n",
    "optimizer = optim.Adam(model.parameters(), lr=0.001)\n",
    "\n",
    "# 制作输入\n",
    "input_batch, target_batch = make_batch(sentences)\n",
    "input_batch = Variable(torch.LongTensor(input_batch))\n",
    "target_batch = Variable(torch.LongTensor(target_batch))\n",
    "\n",
    "input_batch"
   ],
   "id": "4361af673f92b94c",
   "outputs": [
    {
     "data": {
      "text/plain": [
       "tensor([[0, 5, 1],\n",
       "        [0, 7, 2],\n",
       "        [0, 8, 4]])"
      ]
     },
     "execution_count": 52,
     "metadata": {},
     "output_type": "execute_result"
    }
   ],
   "execution_count": 52
  },
  {
   "metadata": {
    "ExecuteTime": {
     "end_time": "2025-03-12T04:22:41.366404Z",
     "start_time": "2025-03-12T04:22:40.486137Z"
    }
   },
   "cell_type": "code",
   "source": [
    "# 开始训练\n",
    "for epoch in range(1000):\n",
    "    optimizer.zero_grad()\n",
    "    output = model(input_batch)\n",
    "# output : [batch_size, n_class], target_batch : [batch_size] (LongTensor, not one-hot)\n",
    "    loss = criterion(output, target_batch)\n",
    "    if (epoch + 1) % 1000 == 0:\n",
    "        print(\"Epoch:{}\".format(epoch + 1), \"Loss:{:.3f}\".format(loss))\n",
    "    loss.backward()\n",
    "    optimizer.step()\n",
    "\n",
    "# 预测\n",
    "predict = model(input_batch).data.max(\n",
    "    1, keepdim=True)[1]  # [batch_size, n_class]\n",
    "print(\"predict: \\n\", predict)\n",
    "# 测试\n",
    "print([sentence.split()[:3] for sentence in sentences], \"---->\",\n",
    "      [number_dict[n.item()] for n in predict.squeeze()])\n",
    "model.embed(torch.tensor([0,1,2,3,4,5,6,7,8,9]))\n",
    "for word in word_list:\n",
    "    word_id = word_dict[word]\n",
    "    print(f\"{word} -> {word_id}\")\n",
    "    print(f\"vector of '{word}': {model.embed(torch.tensor([word_id]))}\")"
   ],
   "id": "1166fb40f531e77e",
   "outputs": [
    {
     "name": "stdout",
     "output_type": "stream",
     "text": [
      "Epoch:1000 Loss:0.015\n",
      "predict: \n",
      " tensor([[9],\n",
      "        [3],\n",
      "        [6]])\n",
      "[['i', 'really', 'like'], ['i', 'doubtfully', 'love'], ['i', 'sincerely', 'hate']] ----> ['dog', 'coffee', 'milk']\n",
      "i -> 0\n",
      "vector of 'i': tensor([[-0.6504, -1.5327, -2.0340]], grad_fn=<EmbeddingBackward0>)\n",
      "like -> 1\n",
      "vector of 'like': tensor([[ 0.4249, -0.7295,  0.4160]], grad_fn=<EmbeddingBackward0>)\n",
      "love -> 2\n",
      "vector of 'love': tensor([[ 3.0290, -0.6820,  0.7641]], grad_fn=<EmbeddingBackward0>)\n",
      "coffee -> 3\n",
      "vector of 'coffee': tensor([[-0.7789, -0.7452,  0.6817]], grad_fn=<EmbeddingBackward0>)\n",
      "hate -> 4\n",
      "vector of 'hate': tensor([[-0.9589,  0.5961, -1.3371]], grad_fn=<EmbeddingBackward0>)\n",
      "really -> 5\n",
      "vector of 'really': tensor([[-0.6070, -0.8506, -1.2067]], grad_fn=<EmbeddingBackward0>)\n",
      "milk -> 6\n",
      "vector of 'milk': tensor([[0.7398, 0.6839, 0.6022]], grad_fn=<EmbeddingBackward0>)\n",
      "doubtfully -> 7\n",
      "vector of 'doubtfully': tensor([[-1.6310, -1.0945, -0.2196]], grad_fn=<EmbeddingBackward0>)\n",
      "sincerely -> 8\n",
      "vector of 'sincerely': tensor([[ 1.5312,  0.5812, -1.4820]], grad_fn=<EmbeddingBackward0>)\n",
      "dog -> 9\n",
      "vector of 'dog': tensor([[ 0.2011, -0.2681,  0.3387]], grad_fn=<EmbeddingBackward0>)\n"
     ]
    }
   ],
   "execution_count": 54
  }
 ],
 "metadata": {
  "kernelspec": {
   "display_name": "Python 3",
   "language": "python",
   "name": "python3"
  },
  "language_info": {
   "codemirror_mode": {
    "name": "ipython",
    "version": 2
   },
   "file_extension": ".py",
   "mimetype": "text/x-python",
   "name": "python",
   "nbconvert_exporter": "python",
   "pygments_lexer": "ipython2",
   "version": "2.7.6"
  }
 },
 "nbformat": 4,
 "nbformat_minor": 5
}
